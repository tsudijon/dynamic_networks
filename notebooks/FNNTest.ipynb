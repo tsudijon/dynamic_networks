{
 "cells": [
  {
   "cell_type": "markdown",
   "metadata": {},
   "source": [
    "# Testing False Nearest Neighbors for the sensor sphere example"
   ]
  },
  {
   "cell_type": "code",
   "execution_count": 5,
   "metadata": {},
   "outputs": [],
   "source": [
    "from __future__ import division\n",
    "import numpy as np\n",
    "import sys\n",
    "import os\n",
    "import matplotlib.pyplot as plt\n",
    "from mpl_toolkits.mplot3d import Axes3D\n",
    "from scipy.spatial.distance import squareform\n",
    "import importlib\n",
    "import scipy.spatial as sp\n",
    "\n",
    "## Load in sphere code\n",
    "sys.path.append('../data/simple_egs/')\n",
    "import SphereExample as sphere\n",
    "import ContinuousTimeSphereModel as ctsm\n",
    "importlib.reload(ctsm)\n",
    "importlib.reload(sphere)\n",
    "\n",
    "## Load in d.n. analysis code\n",
    "sys.path.append('../src/')\n",
    "import graph_fns as gf\n",
    "import persistence_fns as pf\n",
    "import sliding_window_fns as sw\n",
    "from ripser import ripser\n",
    "from persim import plot_diagrams\n",
    "from sklearn import manifold"
   ]
  },
  {
   "cell_type": "code",
   "execution_count": 2,
   "metadata": {
    "collapsed": true
   },
   "outputs": [],
   "source": [
    "## Setup Sensor Lifetimes\n",
    "T = 15 # Period \n",
    "\n",
    "obsfn = lambda t, p: sphere.periodic_northsouth_modulated(t,p,T)\n",
    "edge_wtsfn = lambda hull_obj: sphere.get_edge_wts(hull_obj, alpha = 1.0)\n",
    "\n",
    "lambda1 = 50\n",
    "lambda2 = lambda1\n",
    "\n",
    "sensor_lifetimes = ctsm.get_sensor_lifetimes(2.5*T, lambda1, lambda2)"
   ]
  },
  {
   "cell_type": "code",
   "execution_count": 3,
   "metadata": {
    "collapsed": true
   },
   "outputs": [],
   "source": [
    "## Create the Dynamic Network\n",
    "dynamic_network_samples = 200\n",
    "ts = np.linspace(0,2*T,dynamic_network_samples)\n",
    "\n",
    "(node_wts,edge_wts, allpoints) = ctsm.sample_dynamic_network(sensor_lifetimes, ts, obsfn = obsfn,\n",
    "                                    edge_wtsfn = edge_wtsfn)"
   ]
  },
  {
   "cell_type": "code",
   "execution_count": 6,
   "metadata": {
    "collapsed": true
   },
   "outputs": [],
   "source": [
    "## Apply the analysis\n",
    "\n",
    "# apply phi functions, and scale the weights\n",
    "phi_node_wts, phi_edge_wts = gf.weight_fn(node_wts, edge_wts, lamda=1, phi=sphere.linear_phi_fn)\n",
    "\n",
    "# construct the filtrations / simplicial complexes according to our construction\n",
    "filtration_matrix = list(map(lambda n, e: pf.get_filtration(n, e), phi_node_wts, phi_edge_wts))\n",
    "\n",
    "# summarize these filtrations using H_0 barcodes\n",
    "barcodes = list(map(pf.get_rips_complex, filtration_matrix))\n",
    "\n",
    "bn_dist_matrix = pf.get_bottleneck_dist_matrix(barcodes)"
   ]
  },
  {
   "cell_type": "markdown",
   "metadata": {},
   "source": [
    "## Apply FNN"
   ]
  },
  {
   "cell_type": "code",
   "execution_count": 19,
   "metadata": {},
   "outputs": [
    {
     "data": {
      "text/plain": [
       "<module 'FalseNearestNeighbors' from '../shared_scripts/FalseNearestNeighbors.py'>"
      ]
     },
     "execution_count": 19,
     "metadata": {},
     "output_type": "execute_result"
    }
   ],
   "source": [
    "import fnn_fns as fnn\n",
    "importlib.reload(fnn)"
   ]
  },
  {
   "cell_type": "code",
   "execution_count": 21,
   "metadata": {},
   "outputs": [
    {
     "name": "stdout",
     "output_type": "stream",
     "text": [
      "[ 199.  198.  197.  196.  195.  194.  193.  192.  191.  190.  189.  188.\n",
      "  187.  186.  185.  184.  183.  182.  181.]\n",
      "[ 132.  189.  191.  195.  194.  193.  193.  192.  191.  190.  189.  188.\n",
      "  187.  186.  185.  184.  183.  182.  181.]\n",
      "[ 132.  182.  187.  192.  182.  183.  180.  173.  170.  168.  166.  168.\n",
      "  168.  167.  169.  167.  163.  161.  160.]\n",
      "[ 129.  152.  140.  129.  127.  128.  132.  136.  139.  135.  138.  137.\n",
      "  134.  135.  134.  133.  131.  128.  125.]\n",
      "[ 123.   94.   73.   75.   80.   91.   93.   99.  101.  104.  104.  102.\n",
      "   98.   95.   98.   91.   89.   91.   87.]\n",
      "[ 103.   56.   39.   46.   47.   51.   51.   51.   60.   59.   62.   63.\n",
      "   67.   62.   64.   61.   58.   55.   52.]\n",
      "[ 70.  34.  18.  22.  22.  19.  21.  26.  27.  24.  30.  30.  29.  28.  29.\n",
      "  29.  27.  27.  27.]\n",
      "[ 48.  13.   8.   7.   8.   6.   9.   8.   9.   7.   7.   9.  10.   6.   8.\n",
      "  14.  12.  15.  13.]\n",
      "[ 37.   4.   2.   1.   0.   0.   0.   1.   0.   2.   1.   1.   0.   0.   0.\n",
      "   2.   4.   2.   4.]\n",
      "[ 23.   1.   0.   0.   0.   0.   0.   0.   0.   0.   0.   0.   0.   0.   0.\n",
      "   0.   0.   0.   0.]\n"
     ]
    }
   ],
   "source": [
    "for threshold in np.linspace(0,2,10):\n",
    "    num_false_nbrs = fnn.false_nearest_neighbors(bn_dist_matrix, 20, threshold)\n",
    "    print(num_false_nbrs)"
   ]
  },
  {
   "cell_type": "code",
   "execution_count": null,
   "metadata": {
    "collapsed": true
   },
   "outputs": [],
   "source": []
  }
 ],
 "metadata": {
  "kernelspec": {
   "display_name": "Python 3",
   "language": "python",
   "name": "python3"
  },
  "language_info": {
   "codemirror_mode": {
    "name": "ipython",
    "version": 3
   },
   "file_extension": ".py",
   "mimetype": "text/x-python",
   "name": "python",
   "nbconvert_exporter": "python",
   "pygments_lexer": "ipython3",
   "version": "3.8.2"
  }
 },
 "nbformat": 4,
 "nbformat_minor": 2
}
