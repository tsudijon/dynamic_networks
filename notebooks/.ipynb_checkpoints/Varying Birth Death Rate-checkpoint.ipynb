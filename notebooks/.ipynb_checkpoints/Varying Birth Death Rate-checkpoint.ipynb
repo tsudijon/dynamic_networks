{
 "cells": [
  {
   "cell_type": "markdown",
   "metadata": {},
   "source": [
    "## Vary lambda, the entry/exit rate for the sensors\n",
    "\n",
    "We fix the period of the temperature function to be $T = 15$, and the window length at which to observe these dimensions to be 1/2 the period.\n",
    "\n",
    "We then vary the birth/death rate for the sensor model, and the dimension of the sliding window embedding. The sensor lifetimes are simulated up to $2T,$ and our dynamic network is sampled up to time $2T$ such that the time interval between each of them is $\\tau = (T/2)/\\text{dim}.$ Then taking a sliding window embedd ing of dimension $\\text{dim}$ will have a window length of $T/2$ exactly.\n",
    "\n",
    "Intuitively we expect a smaller value of the birth/death rate to yield cleaner observations of periodicity, and higher max pers than higher values, which would correspond to noisier samples."
   ]
  },
  {
   "cell_type": "code",
   "execution_count": 1,
   "metadata": {
    "collapsed": true
   },
   "outputs": [],
   "source": [
    "from __future__ import division\n",
    "import numpy as np\n",
    "import sys\n",
    "import os\n",
    "import matplotlib.pyplot as plt\n",
    "from mpl_toolkits.mplot3d import Axes3D\n",
    "from scipy.spatial.distance import squareform\n",
    "import importlib\n",
    "import scipy.spatial as sp\n",
    "\n",
    "## Load in sphere code\n",
    "sys.path.append('../2d_graph_example/')\n",
    "import SphereExample as sphere\n",
    "import ContinuousTimeSphereModel as ctsm\n",
    "\n",
    "## Load in d.n. analysis code\n",
    "sys.path.append('../shared_scripts/')\n",
    "import graph_fns as gf\n",
    "import persistence_fns as pf\n",
    "import sliding_window_fns as sw\n",
    "from ripser import ripser, plot_dgms\n",
    "from sklearn import manifold"
   ]
  },
  {
   "cell_type": "code",
   "execution_count": 6,
   "metadata": {
    "scrolled": true
   },
   "outputs": [
    {
     "name": "stdout",
     "output_type": "stream",
     "text": [
      "20 2\n",
      "(0.0057194232940673828, 0.0057194232940673828, 1)\n",
      "20 3\n",
      "(0.16302299499511719, 0.096361398696899414, 2)\n",
      "20 4\n",
      "(0.48972940444946289, 0.40264153480529785, 2)\n",
      "20 5\n",
      "(1.2950661182403564, 1.2950661182403564, 1)\n",
      "20 6\n",
      "(1.4336540699005127, 1.0823733806610107, 4)\n",
      "20 7\n",
      "(1.9230079650878906, 1.4368507862091064, 5)\n",
      "20 8\n",
      "(2.4149091243743896, 2.4149091243743896, 1)\n",
      "20 9\n",
      "(2.8068861961364746, 2.3646912574768066, 8)\n",
      "20 10\n",
      "(2.7835702896118164, 2.5605545043945312, 11)\n",
      "20 11\n",
      "(3.4733328819274902, 3.3313734531402588, 7)\n",
      "20 12\n",
      "(3.3157596588134766, 3.0900254249572754, 7)\n",
      "20 13\n",
      "(3.8896074295043945, 3.36527419090271, 9)\n",
      "20 14\n",
      "(3.499901294708252, 3.0833947658538818, 9)\n",
      "20 15\n",
      "(3.7980341911315918, 3.400019645690918, 13)\n",
      "20 16\n",
      "(3.9068377017974854, 3.5802164077758789, 14)\n",
      "20 17\n",
      "(4.480851411819458, 4.2596080303192139, 11)\n",
      "20 18\n",
      "(5.1210610866546631, 4.815523624420166, 16)\n",
      "20 19\n",
      "(5.009488582611084, 4.7155442237854004, 13)\n",
      "20 20\n"
     ]
    },
    {
     "ename": "KeyboardInterrupt",
     "evalue": "",
     "output_type": "error",
     "traceback": [
      "\u001b[0;31m---------------------------------------------------------------------------\u001b[0m",
      "\u001b[0;31mKeyboardInterrupt\u001b[0m                         Traceback (most recent call last)",
      "\u001b[0;32m<ipython-input-6-cbb0799311ec>\u001b[0m in \u001b[0;36m<module>\u001b[0;34m()\u001b[0m\n\u001b[1;32m     29\u001b[0m                                     edge_wtsfn = edge_wtsfn)\n\u001b[1;32m     30\u001b[0m \u001b[0;34m\u001b[0m\u001b[0m\n\u001b[0;32m---> 31\u001b[0;31m         \u001b[0mPDs\u001b[0m \u001b[0;34m=\u001b[0m \u001b[0msphere\u001b[0m\u001b[0;34m.\u001b[0m\u001b[0mapply_pipeline\u001b[0m\u001b[0;34m(\u001b[0m\u001b[0mnode_wts\u001b[0m\u001b[0;34m,\u001b[0m\u001b[0medge_wts\u001b[0m\u001b[0;34m,\u001b[0m \u001b[0md\u001b[0m \u001b[0;34m=\u001b[0m \u001b[0md\u001b[0m\u001b[0;34m,\u001b[0m \u001b[0mtau\u001b[0m \u001b[0;34m=\u001b[0m \u001b[0;36m1\u001b[0m\u001b[0;34m,\u001b[0m \u001b[0mlamda\u001b[0m\u001b[0;34m=\u001b[0m\u001b[0;36m1\u001b[0m\u001b[0;34m,\u001b[0m \u001b[0mphi\u001b[0m\u001b[0;34m=\u001b[0m\u001b[0msphere\u001b[0m\u001b[0;34m.\u001b[0m\u001b[0mlinear_phi_fn\u001b[0m\u001b[0;34m)\u001b[0m \u001b[0;31m# get the PDs\u001b[0m\u001b[0;34m\u001b[0m\u001b[0m\n\u001b[0m\u001b[1;32m     32\u001b[0m         \u001b[0mres\u001b[0m \u001b[0;34m=\u001b[0m \u001b[0;34m(\u001b[0m\u001b[0msphere\u001b[0m\u001b[0;34m.\u001b[0m\u001b[0mget_maximum_persistence\u001b[0m\u001b[0;34m(\u001b[0m\u001b[0mPDs\u001b[0m\u001b[0;34m)\u001b[0m\u001b[0;34m[\u001b[0m\u001b[0;36m1\u001b[0m\u001b[0;34m]\u001b[0m\u001b[0;34m,\u001b[0m\u001b[0msphere\u001b[0m\u001b[0;34m.\u001b[0m\u001b[0mget_top_diff_persistence\u001b[0m\u001b[0;34m(\u001b[0m\u001b[0mPDs\u001b[0m\u001b[0;34m)\u001b[0m\u001b[0;34m[\u001b[0m\u001b[0;36m1\u001b[0m\u001b[0;34m]\u001b[0m\u001b[0;34m,\u001b[0m \u001b[0msphere\u001b[0m\u001b[0;34m.\u001b[0m\u001b[0mget_num_features\u001b[0m\u001b[0;34m(\u001b[0m\u001b[0mPDs\u001b[0m\u001b[0;34m)\u001b[0m\u001b[0;34m[\u001b[0m\u001b[0;36m1\u001b[0m\u001b[0;34m]\u001b[0m\u001b[0;34m)\u001b[0m\u001b[0;34m\u001b[0m\u001b[0m\n\u001b[1;32m     33\u001b[0m         \u001b[0mprint\u001b[0m\u001b[0;34m(\u001b[0m\u001b[0mres\u001b[0m\u001b[0;34m)\u001b[0m\u001b[0;34m\u001b[0m\u001b[0m\n",
      "\u001b[0;32m/Users/sianamuljadi/projects/Research/dynamic_networks/2d_graph_example/SphereExample.py\u001b[0m in \u001b[0;36mapply_pipeline\u001b[0;34m(node_wts, edge_wts, d, tau, lamda, phi)\u001b[0m\n\u001b[1;32m    221\u001b[0m \u001b[0;34m\u001b[0m\u001b[0m\n\u001b[1;32m    222\u001b[0m     \u001b[0;31m# get bottleneck distance between all the H0 diagrams;\u001b[0m\u001b[0;34m\u001b[0m\u001b[0;34m\u001b[0m\u001b[0m\n\u001b[0;32m--> 223\u001b[0;31m     \u001b[0mbn_dist_matrix\u001b[0m \u001b[0;34m=\u001b[0m \u001b[0mpf\u001b[0m\u001b[0;34m.\u001b[0m\u001b[0mget_bottleneck_dist_matrix\u001b[0m\u001b[0;34m(\u001b[0m\u001b[0mbarcodes\u001b[0m\u001b[0;34m)\u001b[0m\u001b[0;34m\u001b[0m\u001b[0m\n\u001b[0m\u001b[1;32m    224\u001b[0m \u001b[0;34m\u001b[0m\u001b[0m\n\u001b[1;32m    225\u001b[0m     \u001b[0;31m# construct a sliding window embedding\u001b[0m\u001b[0;34m\u001b[0m\u001b[0;34m\u001b[0m\u001b[0m\n",
      "\u001b[0;32m/Users/sianamuljadi/projects/Research/dynamic_networks/shared_scripts/persistence_fns.py\u001b[0m in \u001b[0;36mget_bottleneck_dist_matrix\u001b[0;34m(barcodes)\u001b[0m\n\u001b[1;32m     69\u001b[0m             \u001b[0mbj\u001b[0m \u001b[0;34m=\u001b[0m \u001b[0mnp\u001b[0m\u001b[0;34m.\u001b[0m\u001b[0marray\u001b[0m\u001b[0;34m(\u001b[0m\u001b[0mbarcodes\u001b[0m\u001b[0;34m[\u001b[0m\u001b[0mj\u001b[0m\u001b[0;34m]\u001b[0m\u001b[0;34m)\u001b[0m\u001b[0;34m\u001b[0m\u001b[0m\n\u001b[1;32m     70\u001b[0m             \u001b[0mbj\u001b[0m \u001b[0;34m=\u001b[0m \u001b[0mbj\u001b[0m\u001b[0;34m[\u001b[0m\u001b[0mnp\u001b[0m\u001b[0;34m.\u001b[0m\u001b[0misfinite\u001b[0m\u001b[0;34m(\u001b[0m\u001b[0mbj\u001b[0m\u001b[0;34m[\u001b[0m\u001b[0;34m:\u001b[0m\u001b[0;34m,\u001b[0m \u001b[0;36m1\u001b[0m\u001b[0;34m]\u001b[0m\u001b[0;34m)\u001b[0m\u001b[0;34m,\u001b[0m \u001b[0;34m:\u001b[0m\u001b[0;34m]\u001b[0m\u001b[0;34m\u001b[0m\u001b[0m\n\u001b[0;32m---> 71\u001b[0;31m             \u001b[0mbottle_dist\u001b[0m \u001b[0;34m=\u001b[0m \u001b[0mget_bottleneck_dist\u001b[0m\u001b[0;34m(\u001b[0m\u001b[0mbi\u001b[0m\u001b[0;34m,\u001b[0m \u001b[0mbj\u001b[0m\u001b[0;34m)\u001b[0m\u001b[0;34m\u001b[0m\u001b[0m\n\u001b[0m\u001b[1;32m     72\u001b[0m             \u001b[0mdist_matrix\u001b[0m\u001b[0;34m.\u001b[0m\u001b[0mappend\u001b[0m\u001b[0;34m(\u001b[0m\u001b[0mbottle_dist\u001b[0m\u001b[0;34m)\u001b[0m\u001b[0;34m\u001b[0m\u001b[0m\n\u001b[1;32m     73\u001b[0m     \u001b[0;32mreturn\u001b[0m \u001b[0msquareform\u001b[0m\u001b[0;34m(\u001b[0m\u001b[0mdist_matrix\u001b[0m\u001b[0;34m)\u001b[0m\u001b[0;34m\u001b[0m\u001b[0m\n",
      "\u001b[0;32m/Users/sianamuljadi/projects/Research/dynamic_networks/shared_scripts/persistence_fns.py\u001b[0m in \u001b[0;36mget_bottleneck_dist\u001b[0;34m(b1, b2, e)\u001b[0m\n\u001b[1;32m     55\u001b[0m \u001b[0;32mdef\u001b[0m \u001b[0mget_bottleneck_dist\u001b[0m\u001b[0;34m(\u001b[0m\u001b[0mb1\u001b[0m\u001b[0;34m,\u001b[0m \u001b[0mb2\u001b[0m\u001b[0;34m,\u001b[0m \u001b[0me\u001b[0m\u001b[0;34m=\u001b[0m\u001b[0;36m0\u001b[0m\u001b[0;34m)\u001b[0m\u001b[0;34m:\u001b[0m\u001b[0;34m\u001b[0m\u001b[0m\n\u001b[1;32m     56\u001b[0m     \u001b[0;34m''' wrapping gudhi in a function for ease;'''\u001b[0m\u001b[0;34m\u001b[0m\u001b[0m\n\u001b[0;32m---> 57\u001b[0;31m     \u001b[0;32mreturn\u001b[0m \u001b[0mg\u001b[0m\u001b[0;34m.\u001b[0m\u001b[0mbottleneck_distance\u001b[0m\u001b[0;34m(\u001b[0m\u001b[0mb1\u001b[0m\u001b[0;34m,\u001b[0m \u001b[0mb2\u001b[0m\u001b[0;34m,\u001b[0m \u001b[0me\u001b[0m\u001b[0;34m)\u001b[0m\u001b[0;34m\u001b[0m\u001b[0m\n\u001b[0m\u001b[1;32m     58\u001b[0m \u001b[0;34m\u001b[0m\u001b[0m\n\u001b[1;32m     59\u001b[0m \u001b[0;34m\u001b[0m\u001b[0m\n",
      "\u001b[0;31mKeyboardInterrupt\u001b[0m: "
     ]
    }
   ],
   "source": [
    "#Pick the window length to be half the period\n",
    "\n",
    "## Create the dynamic network\n",
    "T = 15 # Period \n",
    "\n",
    "obsfn = lambda t, p: sphere.periodic_northsouth_modulated(t,p,T)\n",
    "edge_wtsfn = lambda hull_obj: sphere.get_edge_wts(hull_obj, alpha = 1.0) #what is alpha?\n",
    "\n",
    "## Vary Birth/Death rate of the sensors, and dimension\n",
    "bd_rate_test_values = 20*np.arange(1,20)\n",
    "dim_test_values = range(2,30)\n",
    "\n",
    "mpers_results = np.zeros((len(bd_rate_test_values),len(dim_test_values)))\n",
    "top_diff_results = np.zeros((len(bd_rate_test_values),len(dim_test_values)))\n",
    "\n",
    "for i,bd_rate in enumerate(bd_rate_test_values):\n",
    "    for j,d in enumerate(dim_test_values):\n",
    "        print(bd_rate,d)\n",
    "        \n",
    "        # resample sensor lifetimes with different birth/death rates\n",
    "        sensor_lifetimes = ctsm.get_sensor_lifetimes(2*T, bd_rate, bd_rate)\n",
    "\n",
    "        # resample dynamic network \n",
    "        wl = T/2 #fix the window length\n",
    "        tau = wl/d\n",
    "        ts = np.arange(0,2*T,tau) \n",
    "        \n",
    "        (node_wts, edge_wts, allpoints) = ctsm.sample_dynamic_network(sensor_lifetimes, ts, obsfn = obsfn,\n",
    "                                    edge_wtsfn = edge_wtsfn)\n",
    "        \n",
    "        PDs = sphere.apply_pipeline(node_wts,edge_wts, d = d, tau = 1, lamda=1, phi=sphere.linear_phi_fn) # get the PDs\n",
    "        res = (sphere.get_maximum_persistence(PDs)[1],sphere.get_top_diff_persistence(PDs)[1], sphere.get_num_features(PDs)[1])\n",
    "        print(res)\n",
    "\n",
    "        mpers_results[i,j] = res[0]\n",
    "        top_diff_results[i,j] = res[1]"
   ]
  },
  {
   "cell_type": "code",
   "execution_count": null,
   "metadata": {
    "collapsed": true
   },
   "outputs": [],
   "source": [
    "## Plot the results\n",
    "\n",
    "from mpl_toolkits.mplot3d import Axes3D\n",
    "from mpl_toolkits.axes_grid1 import make_axes_locatable\n",
    "\n",
    "plt.gcf().clear()\n",
    "fig, axs = plt.subplots(2,1, figsize = (7,14))\n",
    "\n",
    "ticksize = 8\n",
    "\n",
    "im1 = axs[0].imshow(mpers_results)\n",
    "\n",
    "axs[0].set_xlabel('dimension')\n",
    "axs[0].set_xticks(np.arange(len(dim_test_values)))\n",
    "axs[0].set_xticklabels(labels = list(dim_test_values),fontsize = ticksize)\n",
    "\n",
    "axs[0].set_ylabel('window length')\n",
    "axs[0].set_yticks(np.arange(len(window_length_test_values)))\n",
    "axs[0].set_yticklabels(labels = list(np.around(window_length_test_values,2)),fontsize = ticksize)\n",
    "\n",
    "axs[0].set_title('Max Pers.')\n",
    "\n",
    "divider1 = make_axes_locatable(axs[0])\n",
    "cax1 = divider1.append_axes('right', size='5%', pad=0.1)\n",
    "fig.colorbar(im1,cax1,orientation = 'vertical')\n",
    "\n",
    "### Do the other plot ###\n",
    "\n",
    "im2 = axs[1].imshow(np.divide(top_diff_results,mpers_results),cmap = plt.cm.magma)\n",
    "\n",
    "axs[1].set_xlabel('dimension')\n",
    "axs[1].set_xticks(np.arange(len(dim_test_values)))\n",
    "axs[1].set_xticklabels(labels = list(dim_test_values), fontsize = ticksize)\n",
    "\n",
    "\n",
    "axs[1].set_ylabel('window length')\n",
    "axs[1].set_yticks(np.arange(len(window_length_test_values)))\n",
    "axs[1].set_yticklabels(labels = list(np.around(window_length_test_values,2)),fontsize = ticksize)\n",
    "axs[1].set_title('Ratio of Pers. Diff. vs. Max Pers.')\n",
    "\n",
    "divider2 = make_axes_locatable(axs[1])\n",
    "cax2 = divider2.append_axes('right', size='5%', pad=0.1)\n",
    "fig.colorbar(im2,cax2)\n",
    "\n",
    "fig.tight_layout(rect=[0, 0.03, 1, 0.95])\n",
    "\n",
    "fig.suptitle('Max Persistence vs. window length and d', fontsize = 15)\n",
    "plt.savefig('CtsEx:wl{}dim{}T{}'.format(len(window_length_test_values),len(dim_test_values),T))\n",
    "\n",
    "plt.show()"
   ]
  },
  {
   "cell_type": "code",
   "execution_count": null,
   "metadata": {
    "collapsed": true
   },
   "outputs": [],
   "source": []
  }
 ],
 "metadata": {
  "kernelspec": {
   "display_name": "Python 3",
   "language": "python",
   "name": "python3"
  },
  "language_info": {
   "codemirror_mode": {
    "name": "ipython",
    "version": 3
   },
   "file_extension": ".py",
   "mimetype": "text/x-python",
   "name": "python",
   "nbconvert_exporter": "python",
   "pygments_lexer": "ipython3",
   "version": "3.6.6"
  }
 },
 "nbformat": 4,
 "nbformat_minor": 2
}
