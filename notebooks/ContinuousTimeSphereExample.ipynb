{
 "cells": [
  {
   "cell_type": "markdown",
   "metadata": {},
   "source": [
    "# Continuous Time Sphere Model\n",
    "\n",
    "We model the example of short-lived temperature sensors on the Earth in continuous time, using a combination of a queueing model and point process. Throughout the setup of the model, fix a time $T;$ for each time $t \\in [0,T]$ the set of sensors $S_t$ at time $t$ is a set of locations on $\\mathbb{S}^2,$ where $|S_t|$ is a random variable, and $S_t(i),$ the location of the $i$th sensor is uniformly sampled from the uniform measure on the sphere.\n",
    "\n",
    "Perhaps the easiest way to set up the model is via a (FIFO) queueing model, or birth-death process representing the sensors:\n",
    "\n",
    "- We start with $L_0$ number of sensors, each sampled uniformly from the sphere. \n",
    "- Sensors are added to the queue every so often, again sampled uniformly from the sphere. \n",
    "- Independently of the creation of new sensors, sensors break down at a perhaps different rate, and leave the queue.\n",
    "\n",
    "We can model the time between consecutive joining/ exiting of the queue by exponential distributions.\n",
    "\n",
    "\n",
    "## Queueing Model Implementation\n",
    "Consider a queueing model whose initial length is $L_0,$ the number of initial sensors we begin with. We assume that the queue processes sensors (physically: sensors break down) in a random time $\\sim \\text{Exp}(\\lambda_1),$ and sensors join the queue with interarrival times distributed according to $\\text{Exp}(\\lambda_2),$ which are independent of the times it takes for the queue to process the input.\n",
    "\n",
    "We can simulate this queue in the following way. For a given fixed time $t \\in [0,T],$ by the memoryless property of exponential distributions, the time until a sensor leaves the queue is still $X_1 \\sim \\text{Exp}(\\lambda_1)$ and the interarrival time is still distributed according to $X_2 \\text{Exp}(\\lambda_2).$ Now, the time until one of these two actions occurs is a random variable $Z = \\min(X_1,X_2) \\sim \\text{Exp}(\\lambda_1+\\lambda_2)$ (which can be checked). Now the probability that a sensor joins the queue first is $\\mathbb{P}(X_1 > X_2) = \\frac{\\lambda_1}{\\lambda_1 + \\lambda_2},$ and one minus that for the probability that a sensor breaks and leaves the queue. We can then model the process by waiting $\\text{Exp}(\\lambda_1+\\lambda_2)$ amount of time, and with probability $\\frac{\\lambda_1}{\\lambda_1 + \\lambda_2},$ adding a new sensor to the queue, or otherwise removing the oldest sensor from the queue.\n",
    "\n",
    "## Dynamic Network Analysis\n",
    "The continuous time model allows us to subsample as finely as we want. We keep track of the birth/death of the sensors in an interval tree; for any $t \\in [0,T]$ we query the interval tree for the set of points that are present on the sphere at that time, and then create a dynamic network via the delaunay construction, assigining node values via some observation function representing temperature, or another desired quantity, and the edge weights by distance on the sphere."
   ]
  },
  {
   "cell_type": "code",
   "execution_count": 1,
   "metadata": {
    "collapsed": true
   },
   "outputs": [],
   "source": [
    "def get_sensor_lifetimes(time, birth_rate, death_rate):\n",
    "    '''\n",
    "    A shoddy implementation of a queueing model, with exponentially distributed processing time and\n",
    "    exponentially distributed growth.\n",
    "    '''\n",
    "    l1 = 1/birth_rate\n",
    "    l2 = 1/death_rate\n",
    "\n",
    "    births = [0]*100 #initialize 100 points\n",
    "\n",
    "    current_time = 0\n",
    "    intervals = it.IntervalTree()\n",
    "\n",
    "    while current_time < time:\n",
    "\n",
    "        # if there are no current points\n",
    "        if len(births) == 0:\n",
    "            current_time += np.random.exponential(l2)\n",
    "            births.append(current_time)\n",
    "            continue\n",
    "\n",
    "        current_time += np.random.exponential(l1 + l2)\n",
    "\n",
    "        # add a new point\n",
    "        if np.random.rand() < l1/(l1 + l2):\n",
    "            births.append(current_time)\n",
    "        else:\n",
    "            intervals[births.pop(0):current_time] = sample_uniform_sphere(1)\n",
    "\n",
    "    return intervals\n",
    "\n",
    "\n",
    "def create_dynamic_networks(lambda1,lambda2, obs_times, observation_function, edge_wtsfn):\n",
    "    '''\n",
    "    Can query the interval tree below for more information about the points\n",
    "    -----------------------------------------------------------------------\n",
    "    Input:\n",
    "    lambda1: birth rate (we expect )\n",
    "    lambda2: death rate (length of a lifetime of a node)\n",
    "    obs_times - list of times at which to sample obs function\n",
    "    observation_function - function from which to sample\n",
    "    edge_wtsfn - function applied to edge wts\n",
    "    '''\n",
    "\n",
    "    ### create the interval tree ###\n",
    "    intervals = get_sensor_lifetimes(max(obs_times), lambda1, lambda2)\n",
    "\n",
    "    ### query tree at each timestep ###\n",
    "    coordinate_set = []\n",
    "    for t in obs_times:\n",
    "        points = intervals.at(t)\n",
    "        coordinates = [ p[2] for p in list(points) ]\n",
    "\n",
    "        coordinate_set.append(coordinates)\n",
    "\n",
    "        hull = sp.ConvexHull(coordinates)\n",
    "        node_wts.append(get_node_wts(t,hull,observation_function))\n",
    "        edge_wts.append(edge_wtsfn(hull))\n",
    "\n",
    "    return (node_wts,edge_wts,point_set)"
   ]
  },
  {
   "cell_type": "code",
   "execution_count": null,
   "metadata": {
    "collapsed": true
   },
   "outputs": [],
   "source": []
  }
 ],
 "metadata": {
  "kernelspec": {
   "display_name": "Python 3",
   "language": "python",
   "name": "python3"
  },
  "language_info": {
   "codemirror_mode": {
    "name": "ipython",
    "version": 3
   },
   "file_extension": ".py",
   "mimetype": "text/x-python",
   "name": "python",
   "nbconvert_exporter": "python",
   "pygments_lexer": "ipython3",
   "version": "3.6.6"
  }
 },
 "nbformat": 4,
 "nbformat_minor": 2
}
