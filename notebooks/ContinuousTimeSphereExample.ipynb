{
 "cells": [
  {
   "cell_type": "markdown",
   "metadata": {},
   "source": [
    "# Continuous Time Sphere Model\n",
    "\n",
    "We model the example of short-lived temperature sensors on the Earth in continuous time, using a combination of a queueing model and point process. Throughout the setup of the model, fix a time $T;$ for each time $t \\in [0,T]$ the set of sensors $S_t$ at time $t$ is a set of locations on $\\mathbb{S}^2,$ where $|S_t|$ is a random variable, and $S_t(i),$ the location of the $i$th sensor is uniformly sampled from the uniform measure on the sphere.\n",
    "\n",
    "Perhaps the easiest way to set up the model is via a (FIFO) queueing model, or birth-death process representing the sensors:\n",
    "\n",
    "- We start with $L_0$ number of sensors, each sampled uniformly from the sphere. \n",
    "- Sensors are added to the queue every so often, again sampled uniformly from the sphere. \n",
    "- Independently of the creation of new sensors, sensors break down at a perhaps different rate, and leave the queue.\n",
    "\n",
    "We can model the time between consecutive joining/ exiting of the queue by exponential distributions.\n",
    "\n",
    "\n",
    "## Queueing Model Implementation\n",
    "Consider a queueing model whose initial length is $L_0,$ the number of initial sensors we begin with. We assume that the queue processes sensors (physically: sensors break down) in a random time $\\sim \\text{Exp}(\\lambda_1),$ and sensors join the queue with interarrival times distributed according to $\\text{Exp}(\\lambda_2),$ which are independent of the times it takes for the queue to process the input.\n",
    "\n",
    "We can simulate this queue in the following way. For a given fixed time $t \\in [0,T],$ by the memoryless property of exponential distributions, the time until a sensor leaves the queue is still $X_1 \\sim \\text{Exp}(\\lambda_1)$ and the interarrival time is still distributed according to $X_2 \\text{Exp}(\\lambda_2).$ Now, the time until one of these two actions occurs is a random variable $Z = \\min(X_1,X_2) \\sim \\text{Exp}(\\lambda_1+\\lambda_2)$ (which can be checked). Now the probability that a sensor joins the queue first is $\\mathbb{P}(X_1 > X_2) = \\frac{\\lambda_1}{\\lambda_1 + \\lambda_2},$ and one minus that for the probability that a sensor breaks and leaves the queue. We can then model the process by waiting $\\text{Exp}(\\lambda_1+\\lambda_2)$ amount of time, and with probability $\\frac{\\lambda_1}{\\lambda_1 + \\lambda_2},$ adding a new sensor to the queue, or otherwise removing the oldest sensor from the queue.\n",
    "\n",
    "## Dynamic Network Analysis\n",
    "The continuous time model allows us to subsample as finely as we want. We keep track of the birth/death of the sensors in an interval tree; for any $t \\in [0,T]$ we query the interval tree for the set of points that are present on the sphere at that time, and then create a dynamic network via the delaunay construction, assigining node values via some observation function representing temperature, or another desired quantity, and the edge weights by distance on the sphere."
   ]
  },
  {
   "cell_type": "markdown",
   "metadata": {},
   "source": [
    "# Run the Dynamic Network Analysis"
   ]
  },
  {
   "cell_type": "code",
   "execution_count": 47,
   "metadata": {
    "collapsed": true
   },
   "outputs": [],
   "source": [
    "from __future__ import division\n",
    "import numpy as np\n",
    "import sys\n",
    "import os\n",
    "import matplotlib.pyplot as plt\n",
    "from mpl_toolkits.mplot3d import Axes3D\n",
    "from scipy.spatial.distance import squareform\n",
    "import importlib\n",
    "\n",
    "## Load in sphere code\n",
    "sys.path.append('../2d_graph_example/')\n",
    "import SphereExample as sphere\n",
    "import ContinuousTimeSphereModel as ctsm\n",
    "\n",
    "## Load in d.n. analysis code\n",
    "sys.path.append('../shared_scripts/')\n",
    "import graph_fns as gf\n",
    "import persistence_fns as pf\n",
    "import sliding_window_fns as sw\n",
    "from ripser import ripser, plot_dgms\n",
    "from sklearn import manifold"
   ]
  },
  {
   "cell_type": "code",
   "execution_count": 49,
   "metadata": {},
   "outputs": [],
   "source": [
    "## Setup Sensor Lifetimes\n",
    "T = 10 # Period \n",
    "dynamic_network_samples = 200\n",
    "ts = np.arange(0,2*T,dynamic_network_samples)\n",
    "\n",
    "obsfn = lambda t, p: sphere.periodic_northsouth_modulated(t,p,T)\n",
    "edge_wtsfn = lambda hull_obj: sphere.get_edge_wts(hull_obj, alpha = 1.0)\n",
    "\n",
    "lambda1 = 20\n",
    "lambda2 = lambda1\n",
    "\n",
    "sensor_lifetimes = ctsm.get_sensor_lifetimes(2*T, lambda1, lambda2)"
   ]
  },
  {
   "cell_type": "code",
   "execution_count": 50,
   "metadata": {},
   "outputs": [
    {
     "ename": "AttributeError",
     "evalue": "module 'ContinuousTimeSphereModel' has no attribute 'sample_dynamic_network'",
     "output_type": "error",
     "traceback": [
      "\u001b[0;31m---------------------------------------------------------------------------\u001b[0m",
      "\u001b[0;31mAttributeError\u001b[0m                            Traceback (most recent call last)",
      "\u001b[0;32m<ipython-input-50-fcb095e8fe19>\u001b[0m in \u001b[0;36m<module>\u001b[0;34m()\u001b[0m\n\u001b[1;32m      1\u001b[0m \u001b[0;31m## Create the Dynamic Network\u001b[0m\u001b[0;34m\u001b[0m\u001b[0;34m\u001b[0m\u001b[0m\n\u001b[0;32m----> 2\u001b[0;31m (node_wts,edge_wts, allpoints) = ctsm.sample_dynamic_network(sensor_lifetimes, ts, obsfn = obsfn,\n\u001b[0m\u001b[1;32m      3\u001b[0m                                     edge_wtsfn = edge_wtsfn)\n",
      "\u001b[0;31mAttributeError\u001b[0m: module 'ContinuousTimeSphereModel' has no attribute 'sample_dynamic_network'"
     ]
    }
   ],
   "source": [
    "## Create the Dynamic Network\n",
    "(node_wts,edge_wts, allpoints) = ctsm.sample_dynamic_network(sensor_lifetimes, ts, obsfn = obsfn,\n",
    "                                    edge_wtsfn = edge_wtsfn)"
   ]
  },
  {
   "cell_type": "code",
   "execution_count": null,
   "metadata": {
    "collapsed": true
   },
   "outputs": [],
   "source": []
  }
 ],
 "metadata": {
  "kernelspec": {
   "display_name": "Python 3",
   "language": "python",
   "name": "python3"
  },
  "language_info": {
   "codemirror_mode": {
    "name": "ipython",
    "version": 3
   },
   "file_extension": ".py",
   "mimetype": "text/x-python",
   "name": "python",
   "nbconvert_exporter": "python",
   "pygments_lexer": "ipython3",
   "version": "3.6.6"
  }
 },
 "nbformat": 4,
 "nbformat_minor": 2
}
