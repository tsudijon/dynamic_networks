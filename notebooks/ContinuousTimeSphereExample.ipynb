{
 "cells": [
  {
   "cell_type": "markdown",
   "metadata": {},
   "source": [
    "# Continuous Time Sphere Model\n",
    "\n",
    "We model the example of short-lived temperature sensors on the Earth in continuous time, using a combination of a queueing model and point process. Throughout the setup of the model, fix a time $T;$ for each time $t \\in [0,T]$ the set of sensors $S_t$ at time $t$ is a set of locations on $\\mathbb{S}^2,$ where $|S_t|$ is a random variable, and $S_t(i),$ the location of the $i$th sensor is uniformly sampled from the uniform measure on the sphere.\n",
    "\n",
    "Perhaps the easiest way to set up the model is via a (FIFO) queueing model, or birth-death process representing the sensors:\n",
    "\n",
    "- We start with $L_0$ number of sensors, each sampled uniformly from the sphere. \n",
    "- Sensors are added to the queue every so often, again sampled uniformly from the sphere. \n",
    "- Independently of the creation of new sensors, sensors break down at a perhaps different rate, and leave the queue.\n",
    "\n",
    "We can model the time between consecutive joining/ exiting of the queue by exponential distributions.\n",
    "\n",
    "\n",
    "## Queueing Model Implementation\n",
    "Consider a queueing model whose initial length is $L_0,$ the number of initial sensors we begin with. We assume that the queue processes sensors (physically: sensors break down) in a random time $\\sim \\text{Exp}(\\lambda_1),$ and sensors join the queue with interarrival times distributed according to $\\text{Exp}(\\lambda_2),$ which are independent of the times it takes for the queue to process the input.\n",
    "\n",
    "We can simulate this queue in the following way. For a given fixed time $t \\in [0,T],$ by the memoryless property of exponential distributions, the time until a sensor leaves the queue is still $X_1 \\sim \\text{Exp}(\\lambda_1)$ and the interarrival time is still distributed according to $X_2 \\text{Exp}(\\lambda_2).$ Now, the time until one of these two actions occurs is a random variable $Z = \\min(X_1,X_2) \\sim \\text{Exp}(\\lambda_1+\\lambda_2)$ (which can be checked). Now the probability that a sensor joins the queue first is $\\mathbb{P}(X_1 > X_2) = \\frac{\\lambda_1}{\\lambda_1 + \\lambda_2},$ and one minus that for the probability that a sensor breaks and leaves the queue. We can then model the process by waiting $\\text{Exp}(\\lambda_1+\\lambda_2)$ amount of time, and with probability $\\frac{\\lambda_1}{\\lambda_1 + \\lambda_2},$ adding a new sensor to the queue, or otherwise removing the oldest sensor from the queue.\n",
    "\n",
    "## Dynamic Network Analysis\n",
    "The continuous time model allows us to subsample as finely as we want. We keep track of the birth/death of the sensors in an interval tree; for any $t \\in [0,T]$ we query the interval tree for the set of points that are present on the sphere at that time, and then create a dynamic network via the delaunay construction, assigining node values via some observation function representing temperature, or another desired quantity, and the edge weights by distance on the sphere."
   ]
  },
  {
   "cell_type": "code",
   "execution_count": 23,
   "metadata": {
    "collapsed": true
   },
   "outputs": [],
   "source": [
    "import intervaltree as it\n",
    "\n",
    "def get_sensor_lifetimes(time, birth_rate, death_rate):\n",
    "    '''\n",
    "    A shoddy implementation of a queueing model, with exponentially distributed processing time and\n",
    "    exponentially distributed growth.\n",
    "    '''\n",
    "    l1 = 1/birth_rate\n",
    "    l2 = 1/death_rate\n",
    "\n",
    "    births = [0]*100 #initialize 100 points\n",
    "\n",
    "    current_time = 0\n",
    "    intervals = it.IntervalTree()\n",
    "\n",
    "    while current_time < time:\n",
    "\n",
    "        # if there are no current points\n",
    "        if len(births) == 0:\n",
    "            current_time += np.random.exponential(l2)\n",
    "            births.append(current_time)\n",
    "            continue\n",
    "\n",
    "        current_time += np.random.exponential(1/(birth_rate + death_rate))\n",
    "\n",
    "        # add a new point\n",
    "        if np.random.rand() < l1/(l1 + l2):\n",
    "            births.append(current_time)\n",
    "        else:\n",
    "            intervals[births.pop(0):current_time] = sample_uniform_sphere(1).tolist()[0]\n",
    "\n",
    "    #add the remaining nodes:\n",
    "    for i in range(len(births[:-1])):\n",
    "        intervals[births[i]:time] = sample_uniform_sphere(1).tolist()[0]\n",
    "\n",
    "    return intervals\n",
    "\n",
    "\n",
    "def create_dynamic_networks(intervals,lambda1,lambda2, obs_times, observation_function, edge_wtsfn):\n",
    "    '''\n",
    "    Can query the interval tree below for more information about the points\n",
    "    -----------------------------------------------------------------------\n",
    "    Input:\n",
    "    intervals - the birth deaths of the sensors\n",
    "    lambda1 - birth rate (we expect to see this number born in a time interval\n",
    "        of length 1)\n",
    "    lambda2 - death rate (length of a lifetime of a node)\n",
    "    obs_times - list of times at which to sample obs function\n",
    "    observation_function - function from which to sample\n",
    "    edge_wtsfn - function applied to edge wts\n",
    "    '''\n",
    "\n",
    "    ### query tree at each timestep ###\n",
    "    coordinate_set = []\n",
    "    for t in obs_times:\n",
    "        points = intervals.at(t)\n",
    "        coordinates = [ p[2] for p in list(points) ]\n",
    "\n",
    "        coordinate_set.append(coordinates)\n",
    "\n",
    "        hull = sp.ConvexHull(coordinates)\n",
    "        node_wts.append(get_node_wts(t,hull,observation_function))\n",
    "        edge_wts.append(edge_wtsfn(hull))\n",
    "\n",
    "    return (node_wts,edge_wts,coordinate_set)\n",
    "\n"
   ]
  },
  {
   "cell_type": "markdown",
   "metadata": {},
   "source": [
    "### Network Creation Code"
   ]
  },
  {
   "cell_type": "code",
   "execution_count": 10,
   "metadata": {
    "collapsed": true
   },
   "outputs": [],
   "source": [
    "def sample_uniform_sphere(N):\n",
    "    cds = np.random.normal(0,1,(N,3))\n",
    "    normalized_cds = cds/np.reshape(np.sqrt(np.sum(cds**2,axis = 1)),(N,1))\n",
    "    return normalized_cds\n",
    "\n",
    "def get_node_wts(t,hull_obj, obsfn):\n",
    "    hull = hull_obj\n",
    "    node_wts = [obsfn(t,p) for p in hull.points]\n",
    "    return np.array(node_wts)\n",
    "\n",
    "def get_edge_wts(hull_obj, alpha = 1.0):\n",
    "    \"\"\"\n",
    "    map edges to their distances\n",
    "    use this to create a dynamic network, edges are these distances.\n",
    "    Returns\n",
    "    -------\n",
    "    edges: scipy.sparse(N, N)\n",
    "        A sparse matrix with the edge weights\n",
    "    alpha: float\n",
    "        Amount by which to weight distances\n",
    "    \"\"\"\n",
    "    hull = hull_obj\n",
    "    edges = simplex_list_to_edge_list(hull.simplices)\n",
    "\n",
    "    v = hull.points\n",
    "    ds = [cartesian_to_sphere_distance(v[e[0],:], v[e[1],:]) for e in edges]\n",
    "    ds = alpha*np.array(ds + ds)\n",
    "\n",
    "    e0 = np.array([e[0] for e in edges] + [e[1] for e in edges])\n",
    "    e1 = np.array([e[1] for e in edges] + [e[0] for e in edges])\n",
    "\n",
    "    return sparse.coo_matrix((ds, (e0, e1)), shape=(len(v), len(v)))"
   ]
  },
  {
   "cell_type": "code",
   "execution_count": 11,
   "metadata": {
    "collapsed": true
   },
   "outputs": [],
   "source": [
    "def inverse_x_phi_fn(x):\n",
    "    1.0/(a+0.1)\n",
    "    return np.array([1/(a + 0.1) for a in x])\n",
    "\n",
    "def linear_phi_fn(x):\n",
    "    return 10-x\n",
    "\n",
    "def identity_phi_fn(x):\n",
    "    return x"
   ]
  },
  {
   "cell_type": "code",
   "execution_count": 4,
   "metadata": {
    "collapsed": true
   },
   "outputs": [],
   "source": [
    "# get the adjacency graph of this triangulation\n",
    "import itertools as itr\n",
    "\n",
    "def simplex_list_to_adjacency_graph(simplex_list):\n",
    "    pass\n",
    "\n",
    "# simplex_list is an array of arrays\n",
    "def simplex_list_to_edge_list(simplex_list):\n",
    "    edges = set()\n",
    "    for simplex in simplex_list:\n",
    "        simp_edges = set(itr.combinations(simplex,2)) \n",
    "        edges = edges.union(simp_edges)\n",
    "    return edges"
   ]
  },
  {
   "cell_type": "code",
   "execution_count": 5,
   "metadata": {
    "collapsed": true
   },
   "outputs": [],
   "source": [
    "# cds should be an array of size (3,)\n",
    "def cartesian_to_spherical(cds):\n",
    "    (x,y,z) = cds\n",
    "    rho = np.sqrt(np.sum(cds**2))\n",
    "    r = np.sqrt(x**2 + y**2)\n",
    "    theta = np.arccos(x/r)\n",
    "    phi = np.arcsin(r/rho)\n",
    "    \n",
    "    return (rho,phi,theta)\n",
    "\n",
    "def cartesian_to_sphere_distance(cds1,cds2):\n",
    "    (rho,lat1,lon1) = cartesian_to_spherical(cds1)\n",
    "    (rho,lat2,lon2) = cartesian_to_spherical(cds2)\n",
    "    \n",
    "    dlon = lon2 - lon1\n",
    "    dlat = lat2 - lat1\n",
    "    \n",
    "    a = np.sqrt(np.sin(dlat/2)**2 + np.cos(lat2)*np.cos(lat1)*np.sin(dlon/2)**2)\n",
    "    c = np.arcsin(a)\n",
    "    \n",
    "    return 2*rho*c"
   ]
  },
  {
   "cell_type": "markdown",
   "metadata": {},
   "source": [
    "### Observation Function Code"
   ]
  },
  {
   "cell_type": "code",
   "execution_count": 3,
   "metadata": {
    "collapsed": true
   },
   "outputs": [],
   "source": [
    "# node weights are sampled from a periodic function on the sphere. sin(t + 2*pi*z)?\n",
    "def periodic_northsouth_modulated(t,cds, T):\n",
    "    \"\"\"\n",
    "    Parameters\n",
    "    ----------\n",
    "    t: float\n",
    "        Time index\n",
    "    cds: ndarray(N, 3)\n",
    "        Cartesion coordinates of sphere points\n",
    "    T: float\n",
    "        Period of a cycle\n",
    "    \"\"\"\n",
    "    rho, phi, theta = cartesian_to_spherical(cds)\n",
    "    return 3 + 2*np.cos(2*np.pi*t/T + 2*phi)"
   ]
  },
  {
   "cell_type": "markdown",
   "metadata": {},
   "source": [
    "### Evaluation Code"
   ]
  },
  {
   "cell_type": "code",
   "execution_count": 8,
   "metadata": {
    "collapsed": true
   },
   "outputs": [],
   "source": [
    "def get_maximum_persistence(PD):\n",
    "    num_dim = len(PD)\n",
    "\n",
    "    #has to be a 2D array\n",
    "    def max_pers(array): \n",
    "        if len(array) == 0:\n",
    "            return 0\n",
    "        diff = array[:,1] - array[:,0]\n",
    "        return max(diff)\n",
    "\n",
    "    return list(map(max_pers,PD))\n",
    "\n",
    "# gets the difference between the persistences of the first and second top features\n",
    "def get_top_diff_persistence(PD):\n",
    "    num_dim = len(PD)\n",
    "    \n",
    "    def get_diff(array):\n",
    "        if len(array) == 0:\n",
    "            return 0\n",
    "        diff = array[:,1] - array[:,0]\n",
    "        sorted_diff = sorted(diff,reverse = True)\n",
    "        if len(sorted_diff) == 1:\n",
    "            return sorted_diff[0]\n",
    "        else:\n",
    "            return sorted_diff[0] - sorted_diff[1]\n",
    "        \n",
    "    return(list(map(get_diff,PD)))\n",
    "        \n",
    "def get_num_features(PD):\n",
    "    return(list(map(len,PD)))"
   ]
  },
  {
   "cell_type": "markdown",
   "metadata": {},
   "source": [
    "### Pipeline Code"
   ]
  },
  {
   "cell_type": "code",
   "execution_count": 9,
   "metadata": {
    "collapsed": true
   },
   "outputs": [],
   "source": [
    "def apply_pipeline(node_wts, edge_wts, d, tau):\n",
    "    \n",
    "    # apply phi functions, and scale the weights\n",
    "    phi_node_wts, phi_edge_wts = gf.weight_fn(node_wts, edge_wts, lamda=1, phi=identity_phi_fn)\n",
    "\n",
    "    # constrcut the filtrations / simplicial complexes according to our construction\n",
    "    filtration_matrix = list(map(lambda n, e: pf.get_filtration(n, e), phi_node_wts, phi_edge_wts))\n",
    "    # summarize these filtrations using H_0 barcodes\n",
    "    barcodes = list(map(pf.get_rips_complex, filtration_matrix))\n",
    "\n",
    "    # get bottleneck distance between all the H0 diagrams;\n",
    "    bn_dist_matrix = pf.get_bottleneck_dist_matrix(barcodes)\n",
    "    \n",
    "    # construct a sliding window embedding\n",
    "    sw_vecs_indices = sw.sliding_window(range(len(barcodes)), d=d, tau=tau)\n",
    "    sw_dist_matrix = sw.sw_distance_matrix(sw_vecs_indices, bn_dist_matrix)\n",
    "\n",
    "    # get H1 from the sliding window distance matrix\n",
    "    PDs = ripser(sw_dist_matrix, distance_matrix=True, maxdim=1, coeff=2)['dgms']\n",
    "    \n",
    "    return PDs"
   ]
  },
  {
   "cell_type": "markdown",
   "metadata": {},
   "source": [
    "# Run the Dynamic Network Analysis"
   ]
  },
  {
   "cell_type": "code",
   "execution_count": 6,
   "metadata": {
    "collapsed": true
   },
   "outputs": [],
   "source": [
    "from __future__ import division\n",
    "import numpy as np\n",
    "import sys\n",
    "import os\n",
    "import matplotlib.pyplot as plt\n",
    "from mpl_toolkits.mplot3d import Axes3D\n",
    "from scipy.spatial.distance import squareform\n",
    "sys.path.append('../shared_scripts/')\n",
    "import graph_fns as gf\n",
    "import persistence_fns as pf\n",
    "import sliding_window_fns as sw\n",
    "from ripser import ripser, plot_dgms\n",
    "from sklearn import manifold"
   ]
  },
  {
   "cell_type": "code",
   "execution_count": 24,
   "metadata": {},
   "outputs": [
    {
     "ename": "ValueError",
     "evalue": "The truth value of an array with more than one element is ambiguous. Use a.any() or a.all()",
     "output_type": "error",
     "traceback": [
      "\u001b[0;31m---------------------------------------------------------------------------\u001b[0m",
      "\u001b[0;31mValueError\u001b[0m                                Traceback (most recent call last)",
      "\u001b[0;32m<ipython-input-24-31bea8051ff9>\u001b[0m in \u001b[0;36m<module>\u001b[0;34m()\u001b[0m\n\u001b[1;32m     10\u001b[0m \u001b[0mlambda2\u001b[0m \u001b[0;34m=\u001b[0m \u001b[0mlambda1\u001b[0m\u001b[0;34m\u001b[0m\u001b[0m\n\u001b[1;32m     11\u001b[0m \u001b[0;34m\u001b[0m\u001b[0m\n\u001b[0;32m---> 12\u001b[0;31m \u001b[0msensor_lifetimes\u001b[0m \u001b[0;34m=\u001b[0m \u001b[0mget_sensor_lifetimes\u001b[0m\u001b[0;34m(\u001b[0m\u001b[0;36m2\u001b[0m\u001b[0;34m*\u001b[0m\u001b[0mT\u001b[0m\u001b[0;34m,\u001b[0m \u001b[0mlambda1\u001b[0m\u001b[0;34m,\u001b[0m \u001b[0mlambda2\u001b[0m\u001b[0;34m)\u001b[0m\u001b[0;34m\u001b[0m\u001b[0m\n\u001b[0m",
      "\u001b[0;32m<ipython-input-23-7c576babc1a3>\u001b[0m in \u001b[0;36mget_sensor_lifetimes\u001b[0;34m(time, birth_rate, death_rate)\u001b[0m\n\u001b[1;32m     32\u001b[0m     \u001b[0;31m#add the remaining nodes:\u001b[0m\u001b[0;34m\u001b[0m\u001b[0;34m\u001b[0m\u001b[0m\n\u001b[1;32m     33\u001b[0m     \u001b[0;32mfor\u001b[0m \u001b[0mbirth\u001b[0m \u001b[0;32min\u001b[0m \u001b[0mbirths\u001b[0m\u001b[0;34m:\u001b[0m\u001b[0;34m\u001b[0m\u001b[0m\n\u001b[0;32m---> 34\u001b[0;31m         \u001b[0mintervals\u001b[0m\u001b[0;34m[\u001b[0m\u001b[0mbirth\u001b[0m\u001b[0;34m:\u001b[0m\u001b[0mtime\u001b[0m\u001b[0;34m]\u001b[0m \u001b[0;34m=\u001b[0m \u001b[0msample_uniform_sphere\u001b[0m\u001b[0;34m(\u001b[0m\u001b[0;36m1\u001b[0m\u001b[0;34m)\u001b[0m\u001b[0;34m\u001b[0m\u001b[0m\n\u001b[0m\u001b[1;32m     35\u001b[0m \u001b[0;34m\u001b[0m\u001b[0m\n\u001b[1;32m     36\u001b[0m     \u001b[0;32mreturn\u001b[0m \u001b[0mintervals\u001b[0m\u001b[0;34m\u001b[0m\u001b[0m\n",
      "\u001b[0;32m/Users/sianamuljadi/anaconda/lib/python3.6/site-packages/intervaltree/intervaltree.py\u001b[0m in \u001b[0;36m__setitem__\u001b[0;34m(self, index, value)\u001b[0m\n\u001b[1;32m   1058\u001b[0m         \u001b[0mCompletes\u001b[0m \u001b[0;32min\u001b[0m \u001b[0mO\u001b[0m\u001b[0;34m(\u001b[0m\u001b[0mlog\u001b[0m \u001b[0mn\u001b[0m\u001b[0;34m)\u001b[0m \u001b[0mtime\u001b[0m\u001b[0;34m.\u001b[0m\u001b[0;34m\u001b[0m\u001b[0m\n\u001b[1;32m   1059\u001b[0m         \"\"\"\n\u001b[0;32m-> 1060\u001b[0;31m         \u001b[0mself\u001b[0m\u001b[0;34m.\u001b[0m\u001b[0maddi\u001b[0m\u001b[0;34m(\u001b[0m\u001b[0mindex\u001b[0m\u001b[0;34m.\u001b[0m\u001b[0mstart\u001b[0m\u001b[0;34m,\u001b[0m \u001b[0mindex\u001b[0m\u001b[0;34m.\u001b[0m\u001b[0mstop\u001b[0m\u001b[0;34m,\u001b[0m \u001b[0mvalue\u001b[0m\u001b[0;34m)\u001b[0m\u001b[0;34m\u001b[0m\u001b[0m\n\u001b[0m\u001b[1;32m   1061\u001b[0m \u001b[0;34m\u001b[0m\u001b[0m\n\u001b[1;32m   1062\u001b[0m     \u001b[0;32mdef\u001b[0m \u001b[0m__delitem__\u001b[0m\u001b[0;34m(\u001b[0m\u001b[0mself\u001b[0m\u001b[0;34m,\u001b[0m \u001b[0mpoint\u001b[0m\u001b[0;34m)\u001b[0m\u001b[0;34m:\u001b[0m\u001b[0;34m\u001b[0m\u001b[0m\n",
      "\u001b[0;32m/Users/sianamuljadi/anaconda/lib/python3.6/site-packages/intervaltree/intervaltree.py\u001b[0m in \u001b[0;36maddi\u001b[0;34m(self, begin, end, data)\u001b[0m\n\u001b[1;32m    341\u001b[0m         \u001b[0mCompletes\u001b[0m \u001b[0;32min\u001b[0m \u001b[0mO\u001b[0m\u001b[0;34m(\u001b[0m\u001b[0mlog\u001b[0m \u001b[0mn\u001b[0m\u001b[0;34m)\u001b[0m \u001b[0mtime\u001b[0m\u001b[0;34m.\u001b[0m\u001b[0;34m\u001b[0m\u001b[0m\n\u001b[1;32m    342\u001b[0m         \"\"\"\n\u001b[0;32m--> 343\u001b[0;31m         \u001b[0;32mreturn\u001b[0m \u001b[0mself\u001b[0m\u001b[0;34m.\u001b[0m\u001b[0madd\u001b[0m\u001b[0;34m(\u001b[0m\u001b[0mInterval\u001b[0m\u001b[0;34m(\u001b[0m\u001b[0mbegin\u001b[0m\u001b[0;34m,\u001b[0m \u001b[0mend\u001b[0m\u001b[0;34m,\u001b[0m \u001b[0mdata\u001b[0m\u001b[0;34m)\u001b[0m\u001b[0;34m)\u001b[0m\u001b[0;34m\u001b[0m\u001b[0m\n\u001b[0m\u001b[1;32m    344\u001b[0m     \u001b[0mappendi\u001b[0m \u001b[0;34m=\u001b[0m \u001b[0maddi\u001b[0m\u001b[0;34m\u001b[0m\u001b[0m\n\u001b[1;32m    345\u001b[0m \u001b[0;34m\u001b[0m\u001b[0m\n",
      "\u001b[0;32m/Users/sianamuljadi/anaconda/lib/python3.6/site-packages/intervaltree/intervaltree.py\u001b[0m in \u001b[0;36madd\u001b[0;34m(self, interval)\u001b[0m\n\u001b[1;32m    318\u001b[0m         \u001b[0mCompletes\u001b[0m \u001b[0;32min\u001b[0m \u001b[0mO\u001b[0m\u001b[0;34m(\u001b[0m\u001b[0mlog\u001b[0m \u001b[0mn\u001b[0m\u001b[0;34m)\u001b[0m \u001b[0mtime\u001b[0m\u001b[0;34m.\u001b[0m\u001b[0;34m\u001b[0m\u001b[0m\n\u001b[1;32m    319\u001b[0m         \"\"\"\n\u001b[0;32m--> 320\u001b[0;31m         \u001b[0;32mif\u001b[0m \u001b[0minterval\u001b[0m \u001b[0;32min\u001b[0m \u001b[0mself\u001b[0m\u001b[0;34m:\u001b[0m\u001b[0;34m\u001b[0m\u001b[0m\n\u001b[0m\u001b[1;32m    321\u001b[0m             \u001b[0;32mreturn\u001b[0m\u001b[0;34m\u001b[0m\u001b[0m\n\u001b[1;32m    322\u001b[0m \u001b[0;34m\u001b[0m\u001b[0m\n",
      "\u001b[0;32m/Users/sianamuljadi/anaconda/lib/python3.6/site-packages/intervaltree/intervaltree.py\u001b[0m in \u001b[0;36m__contains__\u001b[0;34m(self, item)\u001b[0m\n\u001b[1;32m   1078\u001b[0m         \u001b[0;31m# thinking that this is O(1), which point-checking isn't.\u001b[0m\u001b[0;34m\u001b[0m\u001b[0;34m\u001b[0m\u001b[0m\n\u001b[1;32m   1079\u001b[0m         \u001b[0;31m#if isinstance(item, Interval):\u001b[0m\u001b[0;34m\u001b[0m\u001b[0;34m\u001b[0m\u001b[0m\n\u001b[0;32m-> 1080\u001b[0;31m         \u001b[0;32mreturn\u001b[0m \u001b[0mitem\u001b[0m \u001b[0;32min\u001b[0m \u001b[0mself\u001b[0m\u001b[0;34m.\u001b[0m\u001b[0mall_intervals\u001b[0m\u001b[0;34m\u001b[0m\u001b[0m\n\u001b[0m\u001b[1;32m   1081\u001b[0m         \u001b[0;31m#else:\u001b[0m\u001b[0;34m\u001b[0m\u001b[0;34m\u001b[0m\u001b[0m\n\u001b[1;32m   1082\u001b[0m         \u001b[0;31m#    return self.contains_point(item)\u001b[0m\u001b[0;34m\u001b[0m\u001b[0;34m\u001b[0m\u001b[0m\n",
      "\u001b[0;31mValueError\u001b[0m: The truth value of an array with more than one element is ambiguous. Use a.any() or a.all()"
     ]
    }
   ],
   "source": [
    "## Setup Sensor Lifetimes\n",
    "T = 10 # Period \n",
    "dynamic_network_samples = 200\n",
    "ts = np.arange(0,2*T,dynamic_network_samples)\n",
    "\n",
    "obsfn = lambda t, p: periodic_northsouth_modulated(t,p,T)\n",
    "edge_wtsfn = lambda hull_obj: get_edge_wts(hull_obj, alpha = 1.0)\n",
    "\n",
    "lambda1 = 20\n",
    "lambda2 = lambda1\n",
    "\n",
    "sensor_lifetimes = get_sensor_lifetimes(2*T, lambda1, lambda2)"
   ]
  },
  {
   "cell_type": "code",
   "execution_count": 22,
   "metadata": {},
   "outputs": [
    {
     "data": {
      "text/plain": [
       "{Interval(0, 0.1520925586639896, array([[-0.12094897,  0.17226228, -0.97759759]])),\n",
       " Interval(0, 0.3024989559738058, array([[ 0.11864593,  0.5281908 ,  0.84079583]])),\n",
       " Interval(0, 0.30620861211746675, array([[ 0.62395368, -0.52045002,  0.58293531]])),\n",
       " Interval(0, 0.5231641742172616, array([[ 0.25095724, -0.44619535,  0.85902862]])),\n",
       " Interval(0, 0.6702574037986431, array([[ 0.5819328 ,  0.52720188, -0.61920304]])),\n",
       " Interval(0, 0.9702631974524337, array([[-0.68939517,  0.67414986,  0.26505899]])),\n",
       " Interval(0, 1.1203693789929117, array([[ 0.47465645,  0.82775032, -0.29921674]])),\n",
       " Interval(0, 1.1525125850391735, array([[-0.0294004 ,  0.91461986, -0.40324451]])),\n",
       " Interval(0, 1.2195717772459587, array([[ 0.18933784, -0.02507746, -0.98159172]])),\n",
       " Interval(0, 1.317559990364011, array([[-0.6889888 , -0.69934118,  0.19030592]])),\n",
       " Interval(0, 1.4878861386930562, array([[ 0.78483661, -0.15439324,  0.60016184]])),\n",
       " Interval(0, 1.6070049361792076, array([[-0.44939356, -0.28213811,  0.84761047]])),\n",
       " Interval(0, 2.2996548534606194, array([[-0.18449809, -0.38114428,  0.90591914]])),\n",
       " Interval(0, 2.3257988942118812, array([[ 0.91255928, -0.11459644, -0.39255982]])),\n",
       " Interval(0, 2.4068465984233907, array([[-0.87521445, -0.2985544 ,  0.38061126]])),\n",
       " Interval(0, 2.4131363019339194, array([[-0.44976799,  0.55242052,  0.70181217]])),\n",
       " Interval(0, 2.4176186833393616, array([[ 0.39173524,  0.67417443, -0.62612486]])),\n",
       " Interval(0, 2.714502729468159, array([[ 0.60089279, -0.38201278, -0.70213538]])),\n",
       " Interval(0, 3.1607485718172352, array([[-0.72574371, -0.66504939,  0.17608346]])),\n",
       " Interval(0, 3.213837332018144, array([[-0.16801046,  0.95963073, -0.22556893]])),\n",
       " Interval(0, 3.3115249911617033, array([[-0.86247561,  0.11085057,  0.49380965]])),\n",
       " Interval(0, 3.3504199159109156, array([[-0.58517641, -0.14836303, -0.79721828]])),\n",
       " Interval(0, 3.6328947433300613, array([[-0.62973123, -0.63207647,  0.45157272]])),\n",
       " Interval(0, 3.8200632048068166, array([[-0.54011779, -0.44317471, -0.71545017]])),\n",
       " Interval(0, 3.830966153529852, array([[-0.07158872, -0.39260483, -0.91691685]])),\n",
       " Interval(0, 3.972724443565514, array([[-0.54634737,  0.19508497, -0.81452219]])),\n",
       " Interval(0, 4.223967104331008, array([[ 0.35231574,  0.47194819,  0.80816986]])),\n",
       " Interval(0, 5.174354523308329, array([[-0.48423009,  0.83180294, -0.27133944]])),\n",
       " Interval(0, 5.354374494645434, array([[-0.42767576, -0.90051838, -0.07848626]])),\n",
       " Interval(0, 5.790305211371542, array([[-0.99090369,  0.05894442,  0.12097699]])),\n",
       " Interval(0, 6.137027478580145, array([[ 0.63382493, -0.45412368,  0.6261291 ]])),\n",
       " Interval(0, 6.401524577580939, array([[ 0.85737728, -0.17423895, -0.48429845]])),\n",
       " Interval(0, 6.637615620997964, array([[-0.02886448,  0.98308014,  0.18088749]])),\n",
       " Interval(0, 7.2454304590854095, array([[ 0.310499  , -0.61532935,  0.72454134]])),\n",
       " Interval(0, 7.314460645455655, array([[ 0.74027904, -0.36655605,  0.56358106]])),\n",
       " Interval(0, 7.328035408176305, array([[ 0.02286601, -0.8375539 , -0.54587601]])),\n",
       " Interval(0, 7.384460413193903, array([[-0.46387217, -0.63134993,  0.62146591]])),\n",
       " Interval(0, 7.930226091518673, array([[-0.28354544, -0.26768742, -0.92083952]])),\n",
       " Interval(0, 8.022117024769555, array([[-0.3300129 , -0.75895078,  0.5613245 ]])),\n",
       " Interval(0, 8.075663770646797, array([[-0.85814059, -0.50221448, -0.10665528]])),\n",
       " Interval(0, 8.272869048000107, array([[-0.92244814,  0.38549124,  0.02204395]])),\n",
       " Interval(0, 8.295482449290517, array([[ 0.89040112, -0.45223469,  0.05166838]])),\n",
       " Interval(0, 8.605394715092386, array([[-0.42876308, -0.89893394,  0.08988876]])),\n",
       " Interval(0, 8.746560160592749, array([[-0.29040435, -0.42630371, -0.85669741]])),\n",
       " Interval(0, 9.576339078028672, array([[-0.17202979,  0.82514312,  0.53809347]])),\n",
       " Interval(0, 9.712983105748918, array([[ 0.66000145, -0.5855124 ,  0.47071574]])),\n",
       " Interval(0, 9.724740969220456, array([[-0.59137257, -0.52369949, -0.61320252]])),\n",
       " Interval(0, 9.83419152304327, array([[-0.57631027, -0.61612683,  0.5368931 ]])),\n",
       " Interval(0, 9.86230694851181, array([[-0.28654734,  0.5696544 , -0.77031454]])),\n",
       " Interval(0, 10.06830848197946, array([[ 0.00560136,  0.80018526,  0.59972675]])),\n",
       " Interval(0, 10.108479908834445, array([[-0.70213988,  0.11346579,  0.70294033]])),\n",
       " Interval(0, 10.237926530314548, array([[ 0.20480381, -0.97765017,  0.04749263]])),\n",
       " Interval(0, 10.352530255621208, array([[-0.23732853, -0.94836959,  0.21040507]])),\n",
       " Interval(0, 10.400635399025125, array([[-0.19864395, -0.05954708,  0.97826107]])),\n",
       " Interval(0, 10.77877979543481, array([[-0.68350075, -0.62656661,  0.37448765]])),\n",
       " Interval(0, 10.941013746105057, array([[ 0.045123  ,  0.16252803, -0.98567163]])),\n",
       " Interval(0, 10.992085594037903, array([[-0.44623811, -0.52681526, -0.7234205 ]])),\n",
       " Interval(0, 11.110704449709598, array([[-0.41078691,  0.75577416, -0.50996033]])),\n",
       " Interval(0, 11.174261032957768, array([[-0.31241624, -0.187503  , -0.93125653]])),\n",
       " Interval(0, 11.230435839683892, array([[-0.69291527,  0.51069894, -0.50897448]])),\n",
       " Interval(0, 11.743506571226161, array([[-0.55606897, -0.3033798 ,  0.77378808]])),\n",
       " Interval(0, 11.77649694046364, array([[-0.18267436, -0.79711112,  0.57553796]])),\n",
       " Interval(0, 11.870370654528635, array([[-0.82656941, -0.32179388, -0.46177019]])),\n",
       " Interval(0, 11.935678678424276, array([[ 0.37072616, -0.41893582, -0.82888775]])),\n",
       " Interval(0, 11.977417431422628, array([[ 0.92006256, -0.3912642 , -0.01993006]])),\n",
       " Interval(0, 12.309338902780834, array([[-0.75530187, -0.54956759,  0.35706379]])),\n",
       " Interval(0, 12.375217507376965, array([[ 0.72152916,  0.33154336, -0.60784429]])),\n",
       " Interval(0, 12.418285864648555, array([[ 0.92134211, -0.36676614,  0.1288849 ]])),\n",
       " Interval(0, 12.470601426600652, array([[ 0.77583738, -0.55222653,  0.30515933]])),\n",
       " Interval(0, 12.563491262564114, array([[ 0.2829393 ,  0.24867464, -0.92634026]])),\n",
       " Interval(0, 13.256426324542181, array([[-0.97962443, -0.04033369,  0.19674646]])),\n",
       " Interval(0, 13.746071129639638, array([[-0.11678228,  0.814851  , -0.56778494]])),\n",
       " Interval(0, 14.108106698580261, array([[-0.02770233,  0.61636732,  0.78697135]])),\n",
       " Interval(0, 14.34999804956789, array([[ 0.00260562,  0.98714959, -0.15977768]])),\n",
       " Interval(0, 14.798552326849778, array([[-0.24151066,  0.8953561 ,  0.37417918]])),\n",
       " Interval(0, 14.821747603782264, array([[ 0.14491161, -0.92958827, -0.33891928]])),\n",
       " Interval(0, 14.94047436017717, array([[-0.91845206,  0.3423234 , -0.1981426 ]])),\n",
       " Interval(0, 14.946312941954714, array([[ 0.44363678,  0.45018607,  0.77493155]])),\n",
       " Interval(0, 15.175973045417624, array([[ 0.34227857,  0.68992818,  0.63784362]])),\n",
       " Interval(0, 15.404173434882109, array([[-0.2238714 , -0.52769288, -0.81940333]])),\n",
       " Interval(0, 15.417152483417846, array([[-0.45086251, -0.04781797,  0.89131164]])),\n",
       " Interval(0, 15.823201801316628, array([[-0.84986929, -0.34255758,  0.40047034]])),\n",
       " Interval(0, 15.943759401720673, array([[-0.61447033, -0.39673051,  0.6819319 ]])),\n",
       " Interval(0, 16.22078663215801, array([[ 0.85453543,  0.51871106, -0.02660893]])),\n",
       " Interval(0, 16.53451058197852, array([[ 0.48885555, -0.49830789,  0.71603736]])),\n",
       " Interval(0, 16.623584683939658, array([[ 0.01699534,  0.13778692,  0.99031607]])),\n",
       " Interval(0, 16.647646939190835, array([[ 0.27414334, -0.95527737, -0.11086284]])),\n",
       " Interval(0, 17.813395991066262, array([[ 0.21966871,  0.93044948,  0.29327364]])),\n",
       " Interval(0, 18.036369441522467, array([[-0.29877388, -0.66397969, -0.6854671 ]])),\n",
       " Interval(0, 18.053264285575434, array([[-0.22794696, -0.91473751, -0.33360975]])),\n",
       " Interval(0, 18.435432619090726, array([[-0.20056542, -0.09561817,  0.97500291]])),\n",
       " Interval(0, 19.368134919222744, array([[-0.20591498,  0.91725546, -0.340942  ]])),\n",
       " Interval(0, 19.456231011941444, array([[ 0.40162862, -0.87694636,  0.26393092]])),\n",
       " Interval(0, 19.680403149646985, array([[ 0.7298995 , -0.51905728, -0.44477663]])),\n",
       " Interval(0, 19.87795972602282, array([[-0.11044262,  0.99236911,  0.05482672]])),\n",
       " Interval(0, 20.3418331804786, array([[ 0.50847074,  0.6302784 ,  0.58669128]]))}"
      ]
     },
     "execution_count": 22,
     "metadata": {},
     "output_type": "execute_result"
    }
   ],
   "source": [
    "sensor_lifetimes.items()"
   ]
  },
  {
   "cell_type": "code",
   "execution_count": null,
   "metadata": {
    "collapsed": true
   },
   "outputs": [],
   "source": [
    "## Create the Dynamic Network\n",
    "(node_wts,edge_wts, allpoints) = create_dynamic_network(ts, obsfn=obsfn,\n",
    "                                    edge_wtsfn=edge_wtsfn, change_param=change_param)"
   ]
  }
 ],
 "metadata": {
  "kernelspec": {
   "display_name": "Python 3",
   "language": "python",
   "name": "python3"
  },
  "language_info": {
   "codemirror_mode": {
    "name": "ipython",
    "version": 3
   },
   "file_extension": ".py",
   "mimetype": "text/x-python",
   "name": "python",
   "nbconvert_exporter": "python",
   "pygments_lexer": "ipython3",
   "version": "3.6.6"
  }
 },
 "nbformat": 4,
 "nbformat_minor": 2
}
