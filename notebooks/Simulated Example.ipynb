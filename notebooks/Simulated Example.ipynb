{
 "cells": [
  {
   "cell_type": "markdown",
   "metadata": {},
   "source": [
    "We work with the simulated example suggested by Jose, where we have a graph grid, say, and a periodic subgraph that moves around the graph and pulses. The hope is that we can capture periodicity with our pipeline; we also want to investigate how maximum persistence changes with the parameters of the sliding window embedding that we choose.\n",
    "\n",
    "Perhaps we can consider this as migration data or something? population of a migrating species"
   ]
  },
  {
   "cell_type": "markdown",
   "metadata": {},
   "source": [
    "# Description of the simulation"
   ]
  },
  {
   "cell_type": "markdown",
   "metadata": {},
   "source": [
    "## Setup"
   ]
  },
  {
   "cell_type": "code",
   "execution_count": 34,
   "metadata": {
    "collapsed": true
   },
   "outputs": [],
   "source": [
    "from __future__ import division\n",
    "import numpy as np\n",
    "import sys\n",
    "import os\n",
    "import matplotlib.pyplot as plt\n",
    "from mpl_toolkits.mplot3d import Axes3D\n",
    "from scipy.spatial.distance import squareform\n",
    "shared_scripts_path = os.path.expanduser('~/projects/Research/dynamic_networks/shared_scripts/')\n",
    "pyRipser_path = os.path.expanduser('~/projects/Research/dynamic_networks/pyRipser/')\n",
    "sys.path.append(shared_scripts_path)\n",
    "sys.path.append(pyRipser_path)\n",
    "import graph_fns as gf\n",
    "import persistence_fns as pf\n",
    "import sliding_window_fns as sw\n",
    "import TDA as r\n",
    "import TDAPlotting as tdap\n",
    "import dionysus as dns\n",
    "from sklearn import manifold"
   ]
  },
  {
   "cell_type": "markdown",
   "metadata": {
    "collapsed": true
   },
   "source": [
    "# Dynamic Network"
   ]
  },
  {
   "cell_type": "code",
   "execution_count": 21,
   "metadata": {
    "collapsed": true
   },
   "outputs": [],
   "source": [
    "def phi_fn(x):\n",
    "    return np.array([np.exp(-a + 5) for a in x])\n",
    "\n",
    "\n",
    "# generate the blinking graph\n",
    "K = 10\n",
    "nPeriods = 5\n",
    "Translen = 10 # determines the resolution of the dynamic network\n",
    "graph = gf.getBlinkingVideo(K, nPeriods, Translen)\n",
    "node_wts, adjacency_matrix, idx2pos, pos2idx = graph['XRet'], graph['A'], graph['idx2pos'], \\\n",
    "    graph['idx2pos']\n",
    "edge_wts = [squareform(adjacency_matrix.toarray())] * len(node_wts)"
   ]
  },
  {
   "cell_type": "markdown",
   "metadata": {},
   "source": [
    "## Visualize the dynamic network"
   ]
  },
  {
   "cell_type": "code",
   "execution_count": 160,
   "metadata": {
    "collapsed": true
   },
   "outputs": [],
   "source": [
    "# make a video or at least visualize a few of the graphs\n",
    "import networkx as nx\n",
    "\n",
    "def draw_graph_nodes(graph_node_wts,filename):\n",
    "    # visualize the first graph\n",
    "    nodes = graph_node_wts\n",
    "\n",
    "    G = nx.Graph()\n",
    "\n",
    "    # draw a grid graph\n",
    "    for i in range(K):\n",
    "        for j in range(K):\n",
    "            # add node weight attribute + location\n",
    "            G.add_node(K*i + j, pos = (i,j),weight = nodes[K*i+j])\n",
    "\n",
    "    # color the node weights with a scale, and adjust their size\n",
    "    \n",
    "    # visualize the first graph\n",
    "    pos = nx.get_node_attributes(G,'pos')\n",
    "    weights = list(nx.get_node_attributes(G,'weight').values())\n",
    "    node_sizes = [400*w + 200 for w in weights]\n",
    "    \n",
    "    \n",
    "    plt.figure(figsize = (10,10))\n",
    "    \n",
    "    cmap = plt.cm.viridis\n",
    "    nx.draw(G,pos,node_color = weights,\n",
    "            node_size = node_sizes, cmap=cmap,\n",
    "            edgecolors = 'black', linewidths = 0.5)\n",
    "    \n",
    "    sm = plt.cm.ScalarMappable(cmap=cmap, norm=plt.Normalize(vmin=0, vmax=1))\n",
    "    sm._A = []\n",
    "    plt.colorbar(sm, shrink = 0.75)\n",
    "    \n",
    "    plt.savefig(filename)\n",
    "    plt.clear()"
   ]
  },
  {
   "cell_type": "code",
   "execution_count": 162,
   "metadata": {},
   "outputs": [
    {
     "name": "stderr",
     "output_type": "stream",
     "text": [
      "/Users/sianamuljadi/anaconda/lib/python3.6/site-packages/matplotlib/pyplot.py:514: RuntimeWarning: More than 20 figures have been opened. Figures created through the pyplot interface (`matplotlib.pyplot.figure`) are retained until explicitly closed and may consume too much memory. (To control this warning, see the rcParam `figure.max_open_warning`).\n",
      "  max_open_warning, RuntimeWarning)\n"
     ]
    }
   ],
   "source": [
    "for i in range(len(node_wts)):\n",
    "    draw_graph_nodes(node_wts[i],filename=\"Images/Simulated_Movie/image%05d\"%i)"
   ]
  },
  {
   "cell_type": "code",
   "execution_count": 168,
   "metadata": {
    "collapsed": true
   },
   "outputs": [],
   "source": [
    "import cv2\n",
    "import os\n",
    "\n",
    "image_folder = 'Images/Simulated_Movie'\n",
    "video_name = 'dynamic_network_example.avi'\n",
    "\n",
    "images = [img for img in sorted(os.listdir(image_folder)) if img.endswith('png')]\n",
    "\n",
    "frame = cv2.imread(os.path.join(image_folder, images[0])) \n",
    "height, width, layers = frame.shape\n",
    "\n",
    "fourcc = cv2.VideoWriter_fourcc('M','J','P','G')\n",
    "# third param is fps\n",
    "video = cv2.VideoWriter(video_name, fourcc, 10, (width,height))\n",
    "\n",
    "for image in images:\n",
    "    video.write(cv2.imread(os.path.join(image_folder, image)))\n",
    "\n",
    "cv2.destroyAllWindows()\n",
    "video.release()"
   ]
  },
  {
   "cell_type": "markdown",
   "metadata": {},
   "source": [
    "# Apply Pipeline"
   ]
  },
  {
   "cell_type": "code",
   "execution_count": 22,
   "metadata": {
    "collapsed": true
   },
   "outputs": [],
   "source": [
    "# pass thru the phi fn\n",
    "phi_node_wts, phi_edge_wts = gf.weight_fn(node_wts, edge_wts, lamda=1, phi=phi_fn)\n",
    "\n",
    "# get a valid filtration where w(x, y)= max(wv(x), wv(y), we(x, y))\n",
    "filtration_matrix = list(map(lambda n, e: pf.get_filtration(n, e), phi_node_wts, phi_edge_wts))\n",
    "\n",
    "# get the rips complexes from the filtration\n",
    "rips = list(map(pf.get_rips_complex, filtration_matrix))\n",
    "\n",
    "# get the H0 barcode\n",
    "hom = list(map(dns.homology_persistence, rips))\n",
    "dgms = list(map(lambda h, r: dns.init_diagrams(h, r)[0], hom, rips))\n",
    "barcodes = [[[point.birth, point.death] for point in dgm] for dgm in dgms]\n",
    "\n",
    "# get bottleneck distance between all the H0 diagrams;\n",
    "bn_dist_matrix = pf.get_bottleneck_dist_matrix(barcodes)"
   ]
  },
  {
   "cell_type": "markdown",
   "metadata": {},
   "source": [
    "## Sliding Window Embedding"
   ]
  },
  {
   "cell_type": "code",
   "execution_count": 23,
   "metadata": {
    "collapsed": true
   },
   "outputs": [],
   "source": [
    "# run sliding window and find the distance between sliding window vec\n",
    "# find sliding window indices and then using the bottleneck dist matrix, find dist matrix\n",
    "# of the sw vectors\n",
    "d = 5\n",
    "tau = 3\n",
    "sw_vecs_indices = sw.sliding_window(range(len(barcodes)), d=2, tau=2)\n",
    "sw_dist_matrix = sw.sw_distance_matrix(sw_vecs_indices, bn_dist_matrix)\n",
    "\n",
    "# get H1 from the sliding window distance matrix\n",
    "PDs = r.doRipsFiltrationDM(sw_dist_matrix, maxHomDim=2, coeff=2)\n"
   ]
  },
  {
   "cell_type": "code",
   "execution_count": 24,
   "metadata": {
    "collapsed": true
   },
   "outputs": [],
   "source": [
    "# check using MDS\n",
    "\n",
    "# get mds coords\n",
    "mds = manifold.MDS(n_components=3, n_init=4, dissimilarity='precomputed', metric=True)\n",
    "mds_coords = mds.fit_transform(sw_dist_matrix)\n",
    "x, y, z = np.split(mds_coords, 3, axis=1)\n"
   ]
  },
  {
   "cell_type": "code",
   "execution_count": 26,
   "metadata": {},
   "outputs": [
    {
     "data": {
      "image/png": "[encoded data removed]",
      "text/plain": [
       "<Figure size 720x720 with 3 Axes>"
      ]
     },
     "metadata": {},
     "output_type": "display_data"
    }
   ],
   "source": [
    "# plot\n",
    "fig = plt.figure(figsize = (10,10))\n",
    "plt.suptitle('K=%d, nPeriod=%d, Translen=%d, d=%d, tau=%d' % (K, nPeriods, Translen, d, tau))\n",
    "ax = fig.add_subplot(221)\n",
    "plt.title('H0')\n",
    "tdap.plotDGM(PDs[0])\n",
    "\n",
    "ax1 = fig.add_subplot(222)\n",
    "plt.title('H1')\n",
    "tdap.plotDGM(PDs[1])\n",
    "\n",
    "ax3 = fig.add_subplot(223, projection='3d')\n",
    "plt.title('MDS coordinates')\n",
    "ax3.scatter(x, y, z, c='r')\n",
    "\n",
    "plt.tight_layout()\n",
    "plt.subplots_adjust(top=0.9)\n",
    "plt.show()"
   ]
  },
  {
   "cell_type": "code",
   "execution_count": 231,
   "metadata": {
    "collapsed": true
   },
   "outputs": [],
   "source": [
    "def get_maximum_persistence(PD):\n",
    "    num_dim = len(PD)\n",
    "\n",
    "    #has to be a 2D array\n",
    "    def max_pers(array): \n",
    "        if len(array) == 0:\n",
    "            return 0\n",
    "        diff = array[:,1] - array[:,0]\n",
    "        return max(diff)\n",
    "\n",
    "    return list(map(max_pers,PD))\n",
    "\n",
    "# gets the difference between the persistences of the first and second top features\n",
    "def get_top_diff_persistence(PD):\n",
    "    num_dim = len(PD)\n",
    "    \n",
    "    def get_diff(array):\n",
    "        if len(array) == 0:\n",
    "            return 0\n",
    "        diff = array[:,1] - array[:,0]\n",
    "        sorted_diff = sorted(diff,reverse = True)\n",
    "        if len(sorted_diff) == 1:\n",
    "            return sorted_diff[0]\n",
    "        else:\n",
    "            return sorted_diff[0] - sorted_diff[1]\n",
    "        \n",
    "    return(list(map(get_diff,PD)))\n",
    "        \n",
    "def get_num_features(PD):\n",
    "    return(list(map(len,PD)))"
   ]
  },
  {
   "cell_type": "markdown",
   "metadata": {
    "collapsed": true
   },
   "source": [
    "# Dependence on parameters\n",
    "Want to make plots of maxpers vs. parameters like dimension, window size, and sampling rate / noise."
   ]
  },
  {
   "cell_type": "code",
   "execution_count": 226,
   "metadata": {
    "collapsed": true
   },
   "outputs": [],
   "source": [
    "# wrap up construction of dynamic network and pipeline into one function\n",
    "\n",
    "# translen determines the resolution of the dynamic network\n",
    "def construct_dynamic_network(K = 10,nperiods = 5, Translen = 10):\n",
    "    graph = gf.getBlinkingVideo(K, nPeriods, Translen)\n",
    "    \n",
    "    node_wts, adjacency_matrix, idx2pos, pos2idx = graph['XRet'], graph['A'], graph['idx2pos'], \\\n",
    "        graph['idx2pos']\n",
    "        \n",
    "    edge_wts = [squareform(adjacency_matrix.toarray())] * len(node_wts)\n",
    "    \n",
    "    return((node_wts, edge_wts))\n",
    "\n",
    "\n",
    "def apply_pipeline(node_wts,edge_wts, d = 5, tau = 3):\n",
    "    \n",
    "    # apply phi functions, and scale the weights\n",
    "    phi_node_wts, phi_edge_wts = gf.weight_fn(node_wts, edge_wts, lamda=1, phi=phi_fn)\n",
    "\n",
    "    # constrcut the filtrations / simplicial complexes according to our construction\n",
    "    filtration_matrix = list(map(lambda n, e: pf.get_filtration(n, e), phi_node_wts, phi_edge_wts))\n",
    "    rips = list(map(pf.get_rips_complex, filtration_matrix))\n",
    "    \n",
    "    # summarize these filtrations using H_0 barcodes\n",
    "    hom = list(map(dns.homology_persistence, rips))\n",
    "    dgms = list(map(lambda h, r: dns.init_diagrams(h, r)[0], hom, rips))\n",
    "    barcodes = [[[point.birth, point.death] for point in dgm] for dgm in dgms]\n",
    "\n",
    "    # get bottleneck distance between all the H0 diagrams;\n",
    "    bn_dist_matrix = pf.get_bottleneck_dist_matrix(barcodes)\n",
    "    \n",
    "    # construct a sliding window embedding\n",
    "    sw_vecs_indices = sw.sliding_window(range(len(barcodes)), d=d, tau=tau)\n",
    "    sw_dist_matrix = sw.sw_distance_matrix(sw_vecs_indices, bn_dist_matrix)\n",
    "\n",
    "    # get H1 from the sliding window distance matrix\n",
    "    PDs = r.doRipsFiltrationDM(sw_dist_matrix, maxHomDim=1, coeff=2)\n",
    "    \n",
    "    return PDs\n"
   ]
  },
  {
   "cell_type": "markdown",
   "metadata": {},
   "source": [
    "## Max Pers vs. window size\n",
    "\n",
    "As a reminder, the window-size is the quantity $M \\tau$ where $M$ is the embedding dimension and $\\tau$ is the sampling rate. We keep track of both the max pers and the difference with netween the first and second highest H1 features, maybe also the number of features?"
   ]
  },
  {
   "cell_type": "code",
   "execution_count": 186,
   "metadata": {
    "collapsed": true
   },
   "outputs": [],
   "source": [
    "(node_wts,edge_wts) = construct_dynamic_network(K = 10, nperiods = 5, Translen = 5)"
   ]
  },
  {
   "cell_type": "code",
   "execution_count": 308,
   "metadata": {},
   "outputs": [
    {
     "data": {
      "text/plain": [
       "200"
      ]
     },
     "execution_count": 308,
     "metadata": {},
     "output_type": "execute_result"
    }
   ],
   "source": [
    "len(node_wts)"
   ]
  },
  {
   "cell_type": "code",
   "execution_count": 316,
   "metadata": {
    "scrolled": true
   },
   "outputs": [
    {
     "name": "stdout",
     "output_type": "stream",
     "text": [
      "7 2\n",
      "(60.9861, 54.562800000000003, 4)\n",
      "7 3\n",
      "(80.663200000000003, 74.458699999999993, 5)\n",
      "7 4\n",
      "(109.08019999999999, 103.5968, 5)\n",
      "7 5\n",
      "(116.065, 110.58160000000001, 5)\n",
      "7 6\n",
      "(118.49170000000001, 107.40690000000001, 6)\n",
      "7 7\n",
      "(119.134, 97.455399999999997, 8)\n",
      "7 8\n",
      "(121.76700000000001, 98.135700000000014, 11)\n",
      "7 9\n",
      "(121.76700000000001, 106.75380000000001, 13)\n",
      "7 10\n",
      "(122.264, 107.2508, 17)\n",
      "7 11\n",
      "(80.355999999999995, 69.689999999999998, 17)\n",
      "7 12\n",
      "(47.222999999999985, 37.725999999999999, 15)\n",
      "7 13\n",
      "(14.121999999999986, 2.5879999999999939, 11)\n",
      "7 14\n",
      "(14.730000000000018, 0.94300000000001205, 9)\n",
      "7 15\n",
      "(20.701999999999998, 9.5649999999999977, 7)\n",
      "7 16\n",
      "(14.826999999999998, 9.4799999999999898, 3)\n",
      "7 17\n",
      "(13.212000000000018, 8.8250000000000171, 3)\n",
      "7 18\n",
      "(11.253000000000014, 8.8750000000000284, 2)\n",
      "7 19\n",
      "(0, 0, 0)\n",
      "7 20\n",
      "(0, 0, 0)\n",
      "7 21\n",
      "(0.81200000000001182, 0.81200000000001182, 1)\n",
      "7 22\n",
      "(0.81200000000001182, 0.81200000000001182, 1)\n",
      "7 23\n",
      "(0, 0, 0)\n",
      "7 24\n",
      "(0, 0, 0)\n",
      "8 2\n",
      "(60.9861, 52.4572, 3)\n",
      "8 3\n",
      "(75.756699999999995, 67.227800000000002, 5)\n",
      "8 4\n",
      "(99.482699999999994, 95.607799999999997, 4)\n",
      "8 5\n",
      "(117.39070000000001, 106.5634, 5)\n",
      "8 6\n",
      "(113.65459999999999, 109.77969999999999, 4)\n",
      "8 7\n",
      "(114.57759999999999, 108.90389999999999, 6)\n",
      "8 8\n",
      "(115.12860000000001, 109.45490000000001, 12)\n",
      "8 9\n",
      "(115.12860000000001, 109.45490000000001, 18)\n",
      "8 10\n",
      "(70.882000000000005, 65.208300000000008, 19)\n",
      "8 11\n",
      "(29.330999999999989, 23.657299999999985, 17)\n",
      "8 12\n",
      "(5.6737000000000037, 0.48110000000000497, 20)\n",
      "8 13\n",
      "(5.1925999999999988, 1.5725999999999942, 14)\n",
      "8 14\n",
      "(3.6590000000000202, 0.039000000000015689, 7)\n",
      "8 15\n",
      "(3.1430000000000007, 0.0, 6)\n",
      "8 16\n",
      "(2.8160000000000025, 0.53600000000000136, 2)\n",
      "8 17\n",
      "(0, 0, 0)\n",
      "8 18\n",
      "(0, 0, 0)\n",
      "8 19\n",
      "(0, 0, 0)\n",
      "8 20\n",
      "(0, 0, 0)\n",
      "8 21\n",
      "(0.23199999999999932, 0.23199999999999932, 1)\n",
      "8 22\n",
      "(0, 0, 0)\n",
      "8 23\n",
      "(0, 0, 0)\n",
      "8 24\n",
      "(0, 0, 0)\n",
      "9 2\n",
      "(57.657599999999995, 48.221799999999995, 3)\n",
      "9 3\n",
      "(78.971500000000006, 69.535700000000006, 5)\n",
      "9 4\n",
      "(95.065699999999993, 89.612799999999993, 4)\n",
      "9 5\n",
      "(94.031599999999997, 80.09899999999999, 5)\n",
      "9 6\n",
      "(92.216399999999993, 77.415099999999995, 11)\n",
      "9 7\n",
      "(94.782399999999996, 84.355199999999996, 18)\n",
      "9 8\n",
      "(92.397899999999993, 81.970699999999994, 21)\n",
      "9 9\n",
      "(54.367999999999995, 46.74799999999999, 14)\n",
      "9 10\n",
      "(10.606999999999999, 1.0110000000000241, 16)\n",
      "9 11\n",
      "(13.090000000000003, 6.0150000000000148, 12)\n",
      "9 12\n",
      "(11.463999999999999, 1.7270000000000039, 7)\n",
      "9 13\n",
      "(15.507000000000005, 10.847000000000008, 4)\n",
      "9 14\n",
      "(13.413000000000011, 10.681000000000012, 4)\n",
      "9 15\n",
      "(0.74500000000000455, 0.74500000000000455, 1)\n",
      "9 16\n",
      "(0, 0, 0)\n",
      "9 17\n",
      "(0, 0, 0)\n",
      "9 18\n",
      "(0, 0, 0)\n",
      "9 19\n",
      "(0, 0, 0)\n",
      "9 20\n",
      "(0, 0, 0)\n",
      "9 21\n",
      "(0, 0, 0)\n",
      "9 22\n",
      "(0, 0, 0)\n",
      "9 23\n"
     ]
    },
    {
     "ename": "IndexError",
     "evalue": "list index out of range",
     "output_type": "error",
     "traceback": [
      "\u001b[0;31m---------------------------------------------------------------------------\u001b[0m",
      "\u001b[0;31mIndexError\u001b[0m                                Traceback (most recent call last)",
      "\u001b[0;32m<ipython-input-316-979f17a64c0e>\u001b[0m in \u001b[0;36m<module>\u001b[0;34m()\u001b[0m\n\u001b[1;32m     11\u001b[0m \u001b[0;34m\u001b[0m\u001b[0m\n\u001b[1;32m     12\u001b[0m         \u001b[0mPDs\u001b[0m \u001b[0;34m=\u001b[0m \u001b[0mapply_pipeline\u001b[0m\u001b[0;34m(\u001b[0m\u001b[0mnode_wts\u001b[0m\u001b[0;34m,\u001b[0m\u001b[0medge_wts\u001b[0m\u001b[0;34m,\u001b[0m \u001b[0md\u001b[0m \u001b[0;34m=\u001b[0m \u001b[0md\u001b[0m\u001b[0;34m,\u001b[0m \u001b[0mtau\u001b[0m \u001b[0;34m=\u001b[0m \u001b[0mtau\u001b[0m\u001b[0;34m)\u001b[0m \u001b[0;31m# get the PDs\u001b[0m\u001b[0;34m\u001b[0m\u001b[0;34m\u001b[0m\u001b[0m\n\u001b[0;32m---> 13\u001b[0;31m         \u001b[0mres\u001b[0m \u001b[0;34m=\u001b[0m \u001b[0;34m(\u001b[0m\u001b[0mget_maximum_persistence\u001b[0m\u001b[0;34m(\u001b[0m\u001b[0mPDs\u001b[0m\u001b[0;34m)\u001b[0m\u001b[0;34m[\u001b[0m\u001b[0;36m1\u001b[0m\u001b[0;34m]\u001b[0m\u001b[0;34m,\u001b[0m\u001b[0mget_top_diff_persistence\u001b[0m\u001b[0;34m(\u001b[0m\u001b[0mPDs\u001b[0m\u001b[0;34m)\u001b[0m\u001b[0;34m[\u001b[0m\u001b[0;36m1\u001b[0m\u001b[0;34m]\u001b[0m\u001b[0;34m,\u001b[0m \u001b[0mget_num_features\u001b[0m\u001b[0;34m(\u001b[0m\u001b[0mPDs\u001b[0m\u001b[0;34m)\u001b[0m\u001b[0;34m[\u001b[0m\u001b[0;36m1\u001b[0m\u001b[0;34m]\u001b[0m\u001b[0;34m)\u001b[0m\u001b[0;34m\u001b[0m\u001b[0;34m\u001b[0m\u001b[0m\n\u001b[0m\u001b[1;32m     14\u001b[0m         \u001b[0mprint\u001b[0m\u001b[0;34m(\u001b[0m\u001b[0mres\u001b[0m\u001b[0;34m)\u001b[0m\u001b[0;34m\u001b[0m\u001b[0;34m\u001b[0m\u001b[0m\n\u001b[1;32m     15\u001b[0m \u001b[0;34m\u001b[0m\u001b[0m\n",
      "\u001b[0;31mIndexError\u001b[0m: list index out of range"
     ]
    }
   ],
   "source": [
    "tau_test_values = range(7,12)\n",
    "dim_test_values = range(2,25)\n",
    "\n",
    "mpers_results = np.zeros((len(tau_test_values),len(dim_test_values)))\n",
    "top_diff_results = np.zeros((len(tau_test_values),len(dim_test_values)))\n",
    "len_results = np.zeros((len(tau_test_values),len(dim_test_values)))\n",
    "\n",
    "for tau in tau_test_values:\n",
    "    for d in dim_test_values:\n",
    "        print(tau,d)\n",
    "        \n",
    "        PDs = apply_pipeline(node_wts,edge_wts, d = d, tau = tau) # get the PDs\n",
    "        res = (get_maximum_persistence(PDs)[1],get_top_diff_persistence(PDs)[1], get_num_features(PDs)[1])\n",
    "        print(res)\n",
    "        \n",
    "        mpers_results[tau - min(tau_test_values),d - min(dim_test_values)] = res[0]\n",
    "        top_diff_results[tau - min(tau_test_values),d - min(dim_test_values)] = res[1]\n",
    "        len_results[tau - min(tau_test_values),d - min(dim_test_values)] = res[2]"
   ]
  },
  {
   "cell_type": "code",
   "execution_count": null,
   "metadata": {},
   "outputs": [],
   "source": [
    "plt.gcf().clear()\n",
    "\n",
    "plt.figure(figsize = (10,10))\n",
    "\n",
    "plt.imshow(mpers_results)\n",
    "plt.xlabel(\"dimension\")\n",
    "plt.xticks(np.arange(len(dim_test_values)),labels = list(dim_test_values))\n",
    "\n",
    "plt.ylabel(\"tau\")\n",
    "plt.yticks(np.arange(len(tau_test_values)), labels = list(tau_test_values))\n",
    "\n",
    "plt.title(\"Max Pers vs. Embedding Dimension and Sampling Rate\")\n",
    "\n",
    "plt.colorbar(shrink = 0.5)\n",
    "\n",
    "plt.show()\n",
    "\n"
   ]
  },
  {
   "cell_type": "code",
   "execution_count": null,
   "metadata": {},
   "outputs": [],
   "source": [
    "from mpl_toolkits.axes_grid1 import make_axes_locatable\n",
    "\n",
    "plt.gcf().clear()\n",
    "fig, axs = plt.subplots(2,1, figsize = (7,7))\n",
    "\n",
    "im1 = axs[0].imshow(mpers_results)\n",
    "\n",
    "axs[0].set_xlabel('dimension')\n",
    "axs[0].set_xticks(np.arange(len(dim_test_values)))\n",
    "axs[0].set_xticklabels(labels = list(dim_test_values))\n",
    "\n",
    "axs[0].set_ylabel('tau')\n",
    "axs[0].set_yticks(np.arange(len(tau_test_values)))\n",
    "axs[0].set_yticklabels(labels = list(tau_test_values))\n",
    "\n",
    "axs[0].set_title('Max Pers.')\n",
    "\n",
    "divider1 = make_axes_locatable(axs[0])\n",
    "cax1 = divider1.append_axes('right', size='5%', pad=0.1)\n",
    "fig.colorbar(im1,cax1,orientation = 'vertical')\n",
    "\n",
    "### Do the other plot ###\n",
    "\n",
    "im2 = axs[1].imshow(np.divide(top_diff_results,mpers_results),cmap = plt.cm.magma)\n",
    "\n",
    "axs[1].set_xlabel('dimension')\n",
    "axs[1].set_xticks(np.arange(len(dim_test_values)))\n",
    "axs[1].set_xticklabels(labels = list(dim_test_values))\n",
    "\n",
    "\n",
    "axs[1].set_ylabel('tau')\n",
    "axs[1].set_yticks(np.arange(len(tau_test_values)))\n",
    "axs[1].set_yticklabels(labels = list(tau_test_values))\n",
    "axs[1].set_title('Ratio of Pers. Diff. vs. Max Pers.')\n",
    "\n",
    "divider2 = make_axes_locatable(axs[1])\n",
    "cax2 = divider2.append_axes('right', size='5%', pad=0.1)\n",
    "fig.colorbar(im2,cax2)\n",
    "\n",
    "fig.tight_layout(rect=[0, 0.03, 1, 0.95])\n",
    "\n",
    "fig.suptitle('Max Persistence vs. tau and d', fontsize = 15)\n",
    "plt.savefig('Maxpers_and_ratio')\n",
    "plt.show()"
   ]
  },
  {
   "cell_type": "code",
   "execution_count": 314,
   "metadata": {
    "collapsed": true
   },
   "outputs": [],
   "source": [
    "np.save('maxpers_array_6_32',mpers_results)\n",
    "np.save('topdiff_array_6_32',top_diff_results)\n",
    "np.save('pd_length_array_6_32',len_results)"
   ]
  },
  {
   "cell_type": "code",
   "execution_count": null,
   "metadata": {
    "collapsed": true
   },
   "outputs": [],
   "source": []
  }
 ],
 "metadata": {
  "kernelspec": {
   "display_name": "Python 3",
   "language": "python",
   "name": "python3"
  },
  "language_info": {
   "codemirror_mode": {
    "name": "ipython",
    "version": 3
   },
   "file_extension": ".py",
   "mimetype": "text/x-python",
   "name": "python",
   "nbconvert_exporter": "python",
   "pygments_lexer": "ipython3",
   "version": "3.6.7"
  }
 },
 "nbformat": 4,
 "nbformat_minor": 2
}
