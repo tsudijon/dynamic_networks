{
 "cells": [
  {
   "cell_type": "code",
   "execution_count": 1,
   "metadata": {},
   "outputs": [],
   "source": [
    "# for the sine function, what does the typical plot look like?\n",
    "import numpy as np\n",
    "\n",
    "xs = np.linspace(0,4*np.pi,5000)\n",
    "ys = np.sin(xs)"
   ]
  },
  {
   "cell_type": "code",
   "execution_count": 3,
   "metadata": {},
   "outputs": [
    {
     "data": {
      "text/plain": [
       "[<matplotlib.lines.Line2D at 0x11b01ee20>]"
      ]
     },
     "execution_count": 3,
     "metadata": {},
     "output_type": "execute_result"
    },
    {
     "data": {
      "image/png": "[encoded data removed]",
      "text/plain": [
       "<Figure size 432x288 with 1 Axes>"
      ]
     },
     "metadata": {
      "needs_background": "light"
     },
     "output_type": "display_data"
    }
   ],
   "source": [
    "import matplotlib.pyplot as plt\n",
    "plt.plot(xs, ys)"
   ]
  },
  {
   "cell_type": "code",
   "execution_count": 4,
   "metadata": {},
   "outputs": [],
   "source": [
    "def sliding_window(time_series, d, tau):\n",
    "    ''' Given a time series, return [f(t), f(t + tau), f(t + 2 * tau), ..., f(t + d * tau)];\n",
    "    i.e. return a sliding window embedding'''\n",
    "    sw_embedding = []\n",
    "    for i in range(len(time_series) - ((d - 1) * tau)):  # -1 b/c python loop ends at last index\n",
    "        sw_embedding.append(time_series[i:i + d * tau:tau])\n",
    "    return sw_embedding"
   ]
  },
  {
   "cell_type": "code",
   "execution_count": null,
   "metadata": {
    "scrolled": true
   },
   "outputs": [
    {
     "name": "stdout",
     "output_type": "stream",
     "text": [
      "0.05263157894736842 2\n",
      "0.05263157894736842 3\n",
      "0.05263157894736842 4\n",
      "0.05263157894736842 5\n",
      "0.05263157894736842 6\n",
      "0.05263157894736842 7\n",
      "0.05263157894736842 8\n",
      "0.05263157894736842 9\n",
      "0.10526315789473684 2\n",
      "0.10526315789473684 3\n",
      "0.10526315789473684 4\n",
      "0.10526315789473684 5\n",
      "0.10526315789473684 6\n",
      "0.10526315789473684 7\n",
      "0.10526315789473684 8\n",
      "0.10526315789473684 9\n",
      "0.15789473684210525 2\n",
      "0.15789473684210525 3\n",
      "0.15789473684210525 4\n",
      "0.15789473684210525 5\n",
      "0.15789473684210525 6\n",
      "0.15789473684210525 7\n",
      "0.15789473684210525 8\n",
      "0.15789473684210525 9\n",
      "0.21052631578947367 2\n",
      "0.21052631578947367 3\n",
      "0.21052631578947367 4\n",
      "0.21052631578947367 5\n",
      "0.21052631578947367 6\n",
      "0.21052631578947367 7\n",
      "0.21052631578947367 8\n",
      "0.21052631578947367 9\n",
      "0.2631578947368421 2\n",
      "0.2631578947368421 3\n",
      "0.2631578947368421 4\n",
      "0.2631578947368421 5\n",
      "0.2631578947368421 6\n",
      "0.2631578947368421 7\n",
      "0.2631578947368421 8\n",
      "0.2631578947368421 9\n",
      "0.3157894736842105 2\n",
      "0.3157894736842105 3\n",
      "0.3157894736842105 4\n",
      "0.3157894736842105 5\n",
      "0.3157894736842105 6\n",
      "0.3157894736842105 7\n",
      "0.3157894736842105 8\n",
      "0.3157894736842105 9\n",
      "0.3684210526315789 2\n",
      "0.3684210526315789 3\n",
      "0.3684210526315789 4\n",
      "0.3684210526315789 5\n",
      "0.3684210526315789 6\n",
      "0.3684210526315789 7\n",
      "0.3684210526315789 8\n",
      "0.3684210526315789 9\n",
      "0.42105263157894735 2\n",
      "0.42105263157894735 3\n",
      "0.42105263157894735 4\n",
      "0.42105263157894735 5\n",
      "0.42105263157894735 6\n",
      "0.42105263157894735 7\n",
      "0.42105263157894735 8\n",
      "0.42105263157894735 9\n",
      "0.47368421052631576 2\n",
      "0.47368421052631576 3\n",
      "0.47368421052631576 4\n",
      "0.47368421052631576 5\n",
      "0.47368421052631576 6\n",
      "0.47368421052631576 7\n",
      "0.47368421052631576 8\n",
      "0.47368421052631576 9\n",
      "0.5263157894736842 2\n",
      "0.5263157894736842 3\n",
      "0.5263157894736842 4\n",
      "0.5263157894736842 5\n",
      "0.5263157894736842 6\n",
      "0.5263157894736842 7\n",
      "0.5263157894736842 8\n",
      "0.5263157894736842 9\n",
      "0.5789473684210527 2\n",
      "0.5789473684210527 3\n",
      "0.5789473684210527 4\n",
      "0.5789473684210527 5\n",
      "0.5789473684210527 6\n",
      "0.5789473684210527 7\n",
      "0.5789473684210527 8\n",
      "0.5789473684210527 9\n",
      "0.631578947368421 2\n",
      "0.631578947368421 3\n",
      "0.631578947368421 4\n",
      "0.631578947368421 5\n",
      "0.631578947368421 6\n",
      "0.631578947368421 7\n",
      "0.631578947368421 8\n",
      "0.631578947368421 9\n",
      "0.6842105263157894 2\n",
      "0.6842105263157894 3\n",
      "0.6842105263157894 4\n",
      "0.6842105263157894 5\n",
      "0.6842105263157894 6\n",
      "0.6842105263157894 7\n",
      "0.6842105263157894 8\n",
      "0.6842105263157894 9\n",
      "0.7368421052631579 2\n",
      "0.7368421052631579 3\n",
      "0.7368421052631579 4\n",
      "0.7368421052631579 5\n",
      "0.7368421052631579 6\n"
     ]
    }
   ],
   "source": [
    "from ripser import ripser\n",
    "\n",
    "T = 2*np.pi\n",
    "window_length_test_values = np.linspace(0,T,10)[1:]\n",
    "dim_test_values = range(2,10)\n",
    "\n",
    "for i,wl in enumerate(window_length_test_values):\n",
    "    for j,d in enumerate(dim_test_values):\n",
    "        print(wl/T,d)\n",
    "        \n",
    "        tau = wl/d\n",
    "    \n",
    "        # construct a sliding window embedding\n",
    "        swe = sliding_window(ys, d=d, tau= int(wl/(d*0.01)) )\n",
    "        \n",
    "        PDs = ripser(np.array(swe), maxdim=1, coeff=2)['dgms']"
   ]
  },
  {
   "cell_type": "code",
   "execution_count": null,
   "metadata": {},
   "outputs": [],
   "source": [
    "from mpl_toolkits.mplot3d import Axes3D\n",
    "from mpl_toolkits.axes_grid1 import make_axes_locatable\n",
    "\n",
    "plt.gcf().clear()\n",
    "fig, axs = plt.subplots(1,2, figsize = (7,14))\n",
    "\n",
    "ticksize = 8\n",
    "\n",
    "im1 = axs[0].imshow(mpers_results)\n",
    "\n",
    "axs[0].set_xlabel('dimension')\n",
    "axs[0].set_xticks(np.arange(len(dim_test_values)))\n",
    "axs[0].set_xticklabels(labels = list(dim_test_values),fontsize = ticksize)\n",
    "\n",
    "axs[0].set_ylabel('window length')\n",
    "axs[0].set_yticks(np.arange(len(window_length_test_values)))\n",
    "axs[0].set_yticklabels(labels = list(np.around(window_length_test_values/T,2)),fontsize = ticksize)\n",
    "\n",
    "axs[0].set_title('Max Pers.')\n",
    "\n",
    "divider1 = make_axes_locatable(axs[0])\n",
    "cax1 = divider1.append_axes('right', size='5%', pad=0.1)\n",
    "fig.colorbar(im1,cax1,orientation = 'vertical')\n",
    "\n",
    "### Do the other plot ###\n",
    "\n",
    "im2 = axs[1].imshow(np.divide(top_diff_results,mpers_results),cmap = plt.cm.magma)\n",
    "\n",
    "axs[1].set_xlabel('dimension')\n",
    "axs[1].set_xticks(np.arange(len(dim_test_values)))\n",
    "axs[1].set_xticklabels(labels = list(dim_test_values), fontsize = ticksize)\n",
    "\n",
    "\n",
    "axs[1].set_ylabel('window length')\n",
    "axs[1].set_yticks(np.arange(len(window_length_test_values)))\n",
    "axs[1].set_yticklabels(labels = list(np.around(window_length_test_values/T,2)),fontsize = ticksize)\n",
    "axs[1].set_title('Ratio of Pers. Diff. vs. Max Pers.')\n",
    "\n",
    "divider2 = make_axes_locatable(axs[1])\n",
    "cax2 = divider2.append_axes('right', size='5%', pad=0.1)\n",
    "fig.colorbar(im2,cax2)\n",
    "\n",
    "fig.tight_layout(rect=[0, 0.03, 1, 0.95])\n",
    "\n",
    "fig.suptitle('Max Persistence vs. window length and d', fontsize = 15)\n",
    "plt.savefig('SimpleSineExample:wl{}dim{}T{}'.format(len(window_length_test_values),len(dim_test_values),T))\n",
    "\n",
    "plt.show()"
   ]
  }
 ],
 "metadata": {
  "kernelspec": {
   "display_name": "Python 3",
   "language": "python",
   "name": "python3"
  },
  "language_info": {
   "codemirror_mode": {
    "name": "ipython",
    "version": 3
   },
   "file_extension": ".py",
   "mimetype": "text/x-python",
   "name": "python",
   "nbconvert_exporter": "python",
   "pygments_lexer": "ipython3",
   "version": "3.8.2"
  },
  "widgets": {
   "state": {},
   "version": "1.1.2"
  }
 },
 "nbformat": 4,
 "nbformat_minor": 2
}
