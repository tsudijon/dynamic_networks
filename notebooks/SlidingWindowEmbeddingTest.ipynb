{
 "cells": [
  {
   "cell_type": "code",
   "execution_count": 34,
   "metadata": {},
   "outputs": [],
   "source": [
    "# for the sine function, what does the typical plot look like?\n",
    "import numpy as np\n",
    "\n",
    "xs = np.linspace(0,10,1000)\n",
    "ys = 2*np.sin(3*np.pi*xs) + 3*np.cos(2*np.pi*xs)"
   ]
  },
  {
   "cell_type": "code",
   "execution_count": 35,
   "metadata": {},
   "outputs": [
    {
     "data": {
      "text/plain": [
       "[<matplotlib.lines.Line2D at 0x11efe0c40>]"
      ]
     },
     "execution_count": 35,
     "metadata": {},
     "output_type": "execute_result"
    },
    {
     "data": {
      "image/png": "[encoded data removed]",
      "text/plain": [
       "<Figure size 432x288 with 1 Axes>"
      ]
     },
     "metadata": {
      "needs_background": "light"
     },
     "output_type": "display_data"
    }
   ],
   "source": [
    "import matplotlib.pyplot as plt\n",
    "plt.plot(xs, ys)"
   ]
  },
  {
   "cell_type": "code",
   "execution_count": 25,
   "metadata": {},
   "outputs": [],
   "source": [
    "def sliding_window(time_series, d, tau):\n",
    "    ''' Given a time series, return [f(t), f(t + tau), f(t + 2 * tau), ..., f(t + d * tau)];\n",
    "    i.e. return a sliding window embedding'''\n",
    "    sw_embedding = []\n",
    "    for i in range(len(time_series) - ((d - 1) * tau)):  # -1 b/c python loop ends at last index\n",
    "        sw_embedding.append(time_series[i:i + d * tau:tau])\n",
    "    return sw_embedding"
   ]
  },
  {
   "cell_type": "code",
   "execution_count": null,
   "metadata": {
    "scrolled": true
   },
   "outputs": [
    {
     "name": "stdout",
     "output_type": "stream",
     "text": [
      "0.2777777777777778 2\n",
      "0.2777777777777778 3\n",
      "0.2777777777777778 4\n",
      "0.2777777777777778 5\n",
      "0.2777777777777778 6\n",
      "0.2777777777777778 7\n",
      "0.2777777777777778 8\n",
      "0.2777777777777778 9\n",
      "0.5555555555555556 2\n",
      "0.5555555555555556 3\n",
      "0.5555555555555556 4\n",
      "0.5555555555555556 5\n"
     ]
    }
   ],
   "source": [
    "from ripser import ripser\n",
    "import sys\n",
    "sys.path.append('../data/simple_egs')\n",
    "import SphereExample as sphere\n",
    "\n",
    "T = 2\n",
    "window_length_test_values = np.linspace(0,2.5*T,10)[1:]\n",
    "dim_test_values = range(2,10)\n",
    "\n",
    "mpers_results = np.zeros((len(window_length_test_values),len(dim_test_values)))\n",
    "top_diff_results = np.zeros((len(window_length_test_values),len(dim_test_values)))\n",
    "PD_results = {}\n",
    "\n",
    "for i,wl in enumerate(window_length_test_values):\n",
    "    for j,d in enumerate(dim_test_values):\n",
    "        print(wl/T,d)\n",
    "        \n",
    "        tau = wl/d\n",
    "    \n",
    "        # construct a sliding window embedding\n",
    "        swe = sliding_window(ys, d=d, tau= int(wl/(d*0.01)) )\n",
    "        \n",
    "        PDs = ripser(np.array(swe), maxdim=1, coeff=2)['dgms']\n",
    "        \n",
    "        PD_results[i,j] = PDs[1]\n",
    "        res = (sphere.get_maximum_persistence(PDs)[1],sphere.get_top_diff_persistence(PDs)[1], sphere.get_num_features(PDs)[1])\n",
    "        \n",
    "\n",
    "        mpers_results[i,j] = res[0]\n",
    "        top_diff_results[i,j] = res[1]"
   ]
  },
  {
   "cell_type": "code",
   "execution_count": null,
   "metadata": {},
   "outputs": [],
   "source": [
    "from mpl_toolkits.mplot3d import Axes3D\n",
    "from mpl_toolkits.axes_grid1 import make_axes_locatable\n",
    "\n",
    "plt.gcf().clear()\n",
    "fig, axs = plt.subplots(1,2)\n",
    "\n",
    "ticksize = 8\n",
    "\n",
    "im1 = axs[0].imshow(mpers_results)\n",
    "\n",
    "axs[0].set_xlabel('dimension')\n",
    "axs[0].set_xticks(np.arange(len(dim_test_values)))\n",
    "axs[0].set_xticklabels(labels = list(dim_test_values),fontsize = ticksize)\n",
    "\n",
    "axs[0].set_ylabel('window length')\n",
    "axs[0].set_yticks(np.arange(len(window_length_test_values)))\n",
    "axs[0].set_yticklabels(labels = list(np.around(window_length_test_values/T,2)),fontsize = ticksize)\n",
    "\n",
    "axs[0].set_title('Max Pers.')\n",
    "\n",
    "divider1 = make_axes_locatable(axs[0])\n",
    "cax1 = divider1.append_axes('right', size='5%', pad=0.1)\n",
    "fig.colorbar(im1,cax1,orientation = 'vertical')\n",
    "\n",
    "### Do the other plot ###\n",
    "\n",
    "im2 = axs[1].imshow(np.divide(top_diff_results,mpers_results),cmap = plt.cm.magma)\n",
    "\n",
    "axs[1].set_xlabel('dimension')\n",
    "axs[1].set_xticks(np.arange(len(dim_test_values)))\n",
    "axs[1].set_xticklabels(labels = list(dim_test_values), fontsize = ticksize)\n",
    "\n",
    "\n",
    "axs[1].set_ylabel('window length')\n",
    "axs[1].set_yticks(np.arange(len(window_length_test_values)))\n",
    "axs[1].set_yticklabels(labels = list(np.around(window_length_test_values/T,2)),fontsize = ticksize)\n",
    "axs[1].set_title('Ratio of Pers. Diff. vs. Max Pers.')\n",
    "\n",
    "divider2 = make_axes_locatable(axs[1])\n",
    "cax2 = divider2.append_axes('right', size='5%', pad=0.1)\n",
    "fig.colorbar(im2,cax2)\n",
    "\n",
    "fig.tight_layout(rect=[0, 0.03, 1, 0.95])\n",
    "\n",
    "fig.suptitle('Max Persistence vs. window length and d', fontsize = 15)\n",
    "\n",
    "plt.show()"
   ]
  },
  {
   "cell_type": "code",
   "execution_count": null,
   "metadata": {},
   "outputs": [],
   "source": []
  }
 ],
 "metadata": {
  "kernelspec": {
   "display_name": "Python 3",
   "language": "python",
   "name": "python3"
  },
  "language_info": {
   "codemirror_mode": {
    "name": "ipython",
    "version": 3
   },
   "file_extension": ".py",
   "mimetype": "text/x-python",
   "name": "python",
   "nbconvert_exporter": "python",
   "pygments_lexer": "ipython3",
   "version": "3.8.2"
  },
  "widgets": {
   "state": {},
   "version": "1.1.2"
  }
 },
 "nbformat": 4,
 "nbformat_minor": 2
}
